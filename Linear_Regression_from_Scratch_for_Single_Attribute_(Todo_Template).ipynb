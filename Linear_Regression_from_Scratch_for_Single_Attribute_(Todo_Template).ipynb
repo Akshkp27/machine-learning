{
 "cells": [
  {
   "cell_type": "markdown",
   "metadata": {
    "_uuid": "9fc285f747982f6af9a6c0c2172203eb0f3df803",
    "colab_type": "text",
    "id": "GjXFV64rnYg6"
   },
   "source": [
    "# Linear Regression : \n",
    "\n",
    "Linear Regressoin is the most basic and popular algorithm of machine learning. It is supervised machine learning algorithm which is predicted output is real values/continuous. Or, Relationship between input/independent variables and single output/dependent variable. \n",
    "We will get linear regression image look like : -\n",
    "\n",
    "![image](https://upload.wikimedia.org/wikipedia/commons/thumb/3/3a/Linear_regression.svg/800px-Linear_regression.svg.png)\n",
    "\n",
    "> ## Objective : \n",
    "\n",
    "To make a simple linear regression model operating on one variable from scratch using statistical formulas\n",
    "\n",
    "### Simple Linear Regression\n",
    "A linear line relationship between one input/independent variable(X) and one output/dependent variable(y).\n",
    "\n",
    "     y = mX + b\n",
    "Where, y is dependent/target variable; X is input/independent variable; m is slop of regression line; b is y-intercept.\n",
    "\n",
    "> ## Approach : \n",
    "\n",
    "The model is built in the following steps \n",
    "\n",
    "- **Data Wrangling**\n",
    "- **Data Cleaning : Missing Values** \n",
    "- **Visualisation : UniVariate** \n",
    "    \n",
    "      - Histograms\n",
    "      - Scatter Plot \n",
    "      - Boxplot\n",
    "      \n",
    "- **Parameter Functions :**\n",
    "      \n",
    "      - Mean and Variance\n",
    "      - Co-Variance\n",
    "      - Coefficients\n",
    "      - Splitting Test Data\n",
    "      \n",
    "- **Model Building and Predictions**\n",
    "\n",
    "- **RMSE Function building and calculation**\n",
    "\n",
    "- **Conclusion**\n",
    "      - "
   ]
  },
  {
   "cell_type": "markdown",
   "metadata": {
    "colab_type": "text",
    "id": "da1tJx0UnYg-"
   },
   "source": [
    "## `1.` Data Wrangling"
   ]
  },
  {
   "cell_type": "code",
   "execution_count": 2,
   "metadata": {
    "_cell_guid": "f9d988d7-333b-48eb-82da-a27fd34c711f",
    "_uuid": "78cf9b50f095deed049d07b0724fde39da4520d1",
    "colab": {},
    "colab_type": "code",
    "id": "mTrOhqJnnYhC"
   },
   "outputs": [],
   "source": [
    "#load all needed libraries\n",
    "import numpy as np\n",
    "import matplotlib.pyplot as plt\n",
    "import seaborn as sb\n",
    "import pandas as pd\n",
    "%matplotlib inline"
   ]
  },
  {
   "cell_type": "code",
   "execution_count": 3,
   "metadata": {
    "_cell_guid": "a9b44517-d670-4345-9e3b-8a2444ad166d",
    "_uuid": "0f16d4eae07eddbb35f24c9c9f441f3f5d0bef36",
    "colab": {},
    "colab_type": "code",
    "id": "gLzjNKzEnYhY"
   },
   "outputs": [],
   "source": [
    "#load data for train and test\n",
    "train = pd.read_csv('train.csv')\n",
    "test = pd.read_csv('test.csv')"
   ]
  },
  {
   "cell_type": "markdown",
   "metadata": {
    "colab_type": "text",
    "id": "TkCAFM6lnYhg"
   },
   "source": [
    "**TASK : Print the head of train and test data** "
   ]
  },
  {
   "cell_type": "code",
   "execution_count": 4,
   "metadata": {
    "_cell_guid": "de68822f-1cd5-4d28-ae0e-f59b74b1d1df",
    "_uuid": "9820c56a9114aefbfebd66dc08c7d615e33ca4a6",
    "colab": {},
    "colab_type": "code",
    "id": "tmyUhHZ6nYhj"
   },
   "outputs": [
    {
     "data": {
      "text/html": [
       "<div>\n",
       "<style scoped>\n",
       "    .dataframe tbody tr th:only-of-type {\n",
       "        vertical-align: middle;\n",
       "    }\n",
       "\n",
       "    .dataframe tbody tr th {\n",
       "        vertical-align: top;\n",
       "    }\n",
       "\n",
       "    .dataframe thead th {\n",
       "        text-align: right;\n",
       "    }\n",
       "</style>\n",
       "<table border=\"1\" class=\"dataframe\">\n",
       "  <thead>\n",
       "    <tr style=\"text-align: right;\">\n",
       "      <th></th>\n",
       "      <th>x</th>\n",
       "      <th>y</th>\n",
       "    </tr>\n",
       "  </thead>\n",
       "  <tbody>\n",
       "    <tr>\n",
       "      <th>0</th>\n",
       "      <td>24.0</td>\n",
       "      <td>21.549452</td>\n",
       "    </tr>\n",
       "    <tr>\n",
       "      <th>1</th>\n",
       "      <td>50.0</td>\n",
       "      <td>47.464463</td>\n",
       "    </tr>\n",
       "    <tr>\n",
       "      <th>2</th>\n",
       "      <td>15.0</td>\n",
       "      <td>17.218656</td>\n",
       "    </tr>\n",
       "    <tr>\n",
       "      <th>3</th>\n",
       "      <td>38.0</td>\n",
       "      <td>36.586398</td>\n",
       "    </tr>\n",
       "    <tr>\n",
       "      <th>4</th>\n",
       "      <td>87.0</td>\n",
       "      <td>87.288984</td>\n",
       "    </tr>\n",
       "  </tbody>\n",
       "</table>\n",
       "</div>"
      ],
      "text/plain": [
       "      x          y\n",
       "0  24.0  21.549452\n",
       "1  50.0  47.464463\n",
       "2  15.0  17.218656\n",
       "3  38.0  36.586398\n",
       "4  87.0  87.288984"
      ]
     },
     "execution_count": 4,
     "metadata": {},
     "output_type": "execute_result"
    }
   ],
   "source": [
    "### START CODE (~2 lines of code)\n",
    "train.head()\n",
    "\n",
    "### END CODE"
   ]
  },
  {
   "cell_type": "code",
   "execution_count": 5,
   "metadata": {},
   "outputs": [
    {
     "data": {
      "text/html": [
       "<div>\n",
       "<style scoped>\n",
       "    .dataframe tbody tr th:only-of-type {\n",
       "        vertical-align: middle;\n",
       "    }\n",
       "\n",
       "    .dataframe tbody tr th {\n",
       "        vertical-align: top;\n",
       "    }\n",
       "\n",
       "    .dataframe thead th {\n",
       "        text-align: right;\n",
       "    }\n",
       "</style>\n",
       "<table border=\"1\" class=\"dataframe\">\n",
       "  <thead>\n",
       "    <tr style=\"text-align: right;\">\n",
       "      <th></th>\n",
       "      <th>x</th>\n",
       "      <th>y</th>\n",
       "    </tr>\n",
       "  </thead>\n",
       "  <tbody>\n",
       "    <tr>\n",
       "      <th>0</th>\n",
       "      <td>77</td>\n",
       "      <td>79.775152</td>\n",
       "    </tr>\n",
       "    <tr>\n",
       "      <th>1</th>\n",
       "      <td>21</td>\n",
       "      <td>23.177279</td>\n",
       "    </tr>\n",
       "    <tr>\n",
       "      <th>2</th>\n",
       "      <td>22</td>\n",
       "      <td>25.609262</td>\n",
       "    </tr>\n",
       "    <tr>\n",
       "      <th>3</th>\n",
       "      <td>20</td>\n",
       "      <td>17.857388</td>\n",
       "    </tr>\n",
       "    <tr>\n",
       "      <th>4</th>\n",
       "      <td>36</td>\n",
       "      <td>41.849864</td>\n",
       "    </tr>\n",
       "  </tbody>\n",
       "</table>\n",
       "</div>"
      ],
      "text/plain": [
       "    x          y\n",
       "0  77  79.775152\n",
       "1  21  23.177279\n",
       "2  22  25.609262\n",
       "3  20  17.857388\n",
       "4  36  41.849864"
      ]
     },
     "execution_count": 5,
     "metadata": {},
     "output_type": "execute_result"
    }
   ],
   "source": [
    "test.head()"
   ]
  },
  {
   "cell_type": "markdown",
   "metadata": {
    "colab_type": "text",
    "id": "mHyoZzV8nYhp"
   },
   "source": [
    "**TASK : Get the shapes of training and testing data**"
   ]
  },
  {
   "cell_type": "code",
   "execution_count": 8,
   "metadata": {
    "_cell_guid": "989e1ac8-9bbe-498f-9481-d5ceb45079ad",
    "_uuid": "35e43d54213f6558c1e1ffff3c3f8edc5376fb30",
    "colab": {},
    "colab_type": "code",
    "id": "M13y_tRinYhq"
   },
   "outputs": [
    {
     "data": {
      "text/plain": [
       "(700, 2)"
      ]
     },
     "execution_count": 8,
     "metadata": {},
     "output_type": "execute_result"
    }
   ],
   "source": [
    "### START CODE HERE (~ 2 Lines of code)\n",
    "train.shape\n",
    "\n",
    "### END CODE "
   ]
  },
  {
   "cell_type": "code",
   "execution_count": 9,
   "metadata": {},
   "outputs": [
    {
     "data": {
      "text/plain": [
       "(300, 2)"
      ]
     },
     "execution_count": 9,
     "metadata": {},
     "output_type": "execute_result"
    }
   ],
   "source": [
    "test.shape"
   ]
  },
  {
   "cell_type": "markdown",
   "metadata": {
    "colab_type": "text",
    "id": "ioc8CSRynYhv"
   },
   "source": [
    "## `2.` Data Cleaning "
   ]
  },
  {
   "cell_type": "markdown",
   "metadata": {
    "_cell_guid": "8fc7bac6-8d72-433f-add6-4d4e650f80ef",
    "_uuid": "d5e09551764d963fe7d52c7dacc70e3b3488e05a",
    "colab_type": "text",
    "id": "znOCQV3znYhx"
   },
   "source": [
    "**TASK : Get info about dataset using `info()` method**"
   ]
  },
  {
   "cell_type": "code",
   "execution_count": 10,
   "metadata": {
    "_cell_guid": "926705b5-6d38-44a7-86cb-a9c09e8e70bd",
    "_uuid": "16d13d3c26828e7f742bd81712998c79beafb40a",
    "colab": {},
    "colab_type": "code",
    "id": "BVqff0R6nYhz"
   },
   "outputs": [
    {
     "name": "stdout",
     "output_type": "stream",
     "text": [
      "<class 'pandas.core.frame.DataFrame'>\n",
      "RangeIndex: 700 entries, 0 to 699\n",
      "Data columns (total 2 columns):\n",
      " #   Column  Non-Null Count  Dtype  \n",
      "---  ------  --------------  -----  \n",
      " 0   x       700 non-null    float64\n",
      " 1   y       699 non-null    float64\n",
      "dtypes: float64(2)\n",
      "memory usage: 11.1 KB\n"
     ]
    }
   ],
   "source": [
    "### START CODE HERE (~1 Line of code)\n",
    "train.info()\n",
    "### END CODE"
   ]
  },
  {
   "cell_type": "markdown",
   "metadata": {
    "_cell_guid": "f9fd386c-173f-4919-b83b-f7f35a401b35",
    "_uuid": "0adbaf136a6fc6664bcb2d2e0167929daf7b9561",
    "colab_type": "text",
    "id": "bLj-cW8FnYh8"
   },
   "source": [
    "- **Missing values**"
   ]
  },
  {
   "cell_type": "markdown",
   "metadata": {
    "colab_type": "text",
    "id": "ocG-5jlBnYh9"
   },
   "source": [
    "**TASK : Find the numbe of missing values**"
   ]
  },
  {
   "cell_type": "code",
   "execution_count": 12,
   "metadata": {
    "_cell_guid": "8e37aa43-f8a9-4fbc-87eb-87168543556e",
    "_uuid": "14c3734c2a4041014db9dece0e9f1fa243a27d24",
    "colab": {},
    "colab_type": "code",
    "id": "DelTXUtenYh-"
   },
   "outputs": [
    {
     "data": {
      "text/plain": [
       "x    0\n",
       "y    1\n",
       "dtype: int64"
      ]
     },
     "execution_count": 12,
     "metadata": {},
     "output_type": "execute_result"
    }
   ],
   "source": [
    "### START CODE HERE (~ 2 lines of code)\n",
    "train.isnull().sum()\n",
    "### END CODE"
   ]
  },
  {
   "cell_type": "markdown",
   "metadata": {
    "_cell_guid": "adf0f51e-460a-4900-b959-ac0d4073a432",
    "_uuid": "a01e0f5c47c6d06f91ad9583b13b932d6ad11aa4",
    "colab_type": "text",
    "id": "6EDu3ZtcnYiE"
   },
   "source": [
    "**TASK : Remove instances with missing values**"
   ]
  },
  {
   "cell_type": "code",
   "execution_count": 26,
   "metadata": {
    "_cell_guid": "adf0f51e-460a-4900-b959-ac0d4073a432",
    "_uuid": "a01e0f5c47c6d06f91ad9583b13b932d6ad11aa4",
    "colab": {},
    "colab_type": "code",
    "id": "4MihpF1ynYiE"
   },
   "outputs": [],
   "source": [
    "### START CODE HERE (~2 Lines of code)\n",
    "train.fillna(0,inplace=True)\n",
    "### END CODE"
   ]
  },
  {
   "cell_type": "code",
   "execution_count": 27,
   "metadata": {},
   "outputs": [
    {
     "data": {
      "text/plain": [
       "x    0\n",
       "y    0\n",
       "dtype: int64"
      ]
     },
     "execution_count": 27,
     "metadata": {},
     "output_type": "execute_result"
    }
   ],
   "source": [
    "train.isnull().sum()"
   ]
  },
  {
   "cell_type": "markdown",
   "metadata": {
    "colab_type": "text",
    "id": "a8bpdBAKnYiL"
   },
   "source": [
    "**TASK : Describe the dataset**"
   ]
  },
  {
   "cell_type": "code",
   "execution_count": 28,
   "metadata": {
    "_cell_guid": "9e4b2917-6964-4e5f-a01a-937f6228742c",
    "_uuid": "b23f8c8d9d02aa9eeb8c762141b05ba8fe6ec11b",
    "colab": {},
    "colab_type": "code",
    "id": "Cz4XRov_nYiM"
   },
   "outputs": [
    {
     "data": {
      "text/html": [
       "<div>\n",
       "<style scoped>\n",
       "    .dataframe tbody tr th:only-of-type {\n",
       "        vertical-align: middle;\n",
       "    }\n",
       "\n",
       "    .dataframe tbody tr th {\n",
       "        vertical-align: top;\n",
       "    }\n",
       "\n",
       "    .dataframe thead th {\n",
       "        text-align: right;\n",
       "    }\n",
       "</style>\n",
       "<table border=\"1\" class=\"dataframe\">\n",
       "  <thead>\n",
       "    <tr style=\"text-align: right;\">\n",
       "      <th></th>\n",
       "      <th>x</th>\n",
       "      <th>y</th>\n",
       "    </tr>\n",
       "  </thead>\n",
       "  <tbody>\n",
       "    <tr>\n",
       "      <th>count</th>\n",
       "      <td>700.000000</td>\n",
       "      <td>700.000000</td>\n",
       "    </tr>\n",
       "    <tr>\n",
       "      <th>mean</th>\n",
       "      <td>54.985939</td>\n",
       "      <td>49.868527</td>\n",
       "    </tr>\n",
       "    <tr>\n",
       "      <th>std</th>\n",
       "      <td>134.681703</td>\n",
       "      <td>29.149565</td>\n",
       "    </tr>\n",
       "    <tr>\n",
       "      <th>min</th>\n",
       "      <td>0.000000</td>\n",
       "      <td>-3.839981</td>\n",
       "    </tr>\n",
       "    <tr>\n",
       "      <th>25%</th>\n",
       "      <td>25.000000</td>\n",
       "      <td>24.805305</td>\n",
       "    </tr>\n",
       "    <tr>\n",
       "      <th>50%</th>\n",
       "      <td>49.000000</td>\n",
       "      <td>48.936330</td>\n",
       "    </tr>\n",
       "    <tr>\n",
       "      <th>75%</th>\n",
       "      <td>75.000000</td>\n",
       "      <td>74.880631</td>\n",
       "    </tr>\n",
       "    <tr>\n",
       "      <th>max</th>\n",
       "      <td>3530.157369</td>\n",
       "      <td>108.871618</td>\n",
       "    </tr>\n",
       "  </tbody>\n",
       "</table>\n",
       "</div>"
      ],
      "text/plain": [
       "                 x           y\n",
       "count   700.000000  700.000000\n",
       "mean     54.985939   49.868527\n",
       "std     134.681703   29.149565\n",
       "min       0.000000   -3.839981\n",
       "25%      25.000000   24.805305\n",
       "50%      49.000000   48.936330\n",
       "75%      75.000000   74.880631\n",
       "max    3530.157369  108.871618"
      ]
     },
     "execution_count": 28,
     "metadata": {},
     "output_type": "execute_result"
    }
   ],
   "source": [
    "### START CODE HERE (~ 1 Line of code)\n",
    "train.describe()\n",
    "### END CODE"
   ]
  },
  {
   "cell_type": "markdown",
   "metadata": {
    "_cell_guid": "83171a74-bd59-48f5-831b-dd9960c3132a",
    "_uuid": "05845b88e6878bb86518f5b3e10a956abb043f3c",
    "colab_type": "text",
    "id": "n4pOwS7_nYiT"
   },
   "source": [
    "## `3.` Visualization of train dataset"
   ]
  },
  {
   "cell_type": "markdown",
   "metadata": {
    "colab_type": "text",
    "id": "ZRATrDASnYiV"
   },
   "source": [
    "### `3.1` Histograms"
   ]
  },
  {
   "cell_type": "markdown",
   "metadata": {
    "colab_type": "text",
    "id": "ZmG5mbnunYiV"
   },
   "source": [
    "**TASK : Plot a `histogram` of train dataset** "
   ]
  },
  {
   "cell_type": "code",
   "execution_count": 25,
   "metadata": {
    "_uuid": "efdafc54ff794a29d6b5a5fc6182abdb0310f8af",
    "colab": {},
    "colab_type": "code",
    "id": "Tr5cb78PnYiX"
   },
   "outputs": [
    {
     "data": {
      "text/plain": [
       "<Figure size 1080x648 with 0 Axes>"
      ]
     },
     "metadata": {},
     "output_type": "display_data"
    },
    {
     "data": {
      "image/png": "[encoded data removed]",
      "text/plain": [
       "<Figure size 432x288 with 1 Axes>"
      ]
     },
     "metadata": {
      "needs_background": "light"
     },
     "output_type": "display_data"
    }
   ],
   "source": [
    "### START CODE HERE (~2 Lines of code)\n",
    "plt.figure(figsize=(15,9))\n",
    "fig,ax=plt.subplots()\n",
    "ax.hist(train)\n",
    "plt.show()\n",
    "### END CODE"
   ]
  },
  {
   "cell_type": "markdown",
   "metadata": {
    "colab_type": "text",
    "id": "lJ3H-oF-nYid"
   },
   "source": [
    "### `3.2` Scatter Plot"
   ]
  },
  {
   "cell_type": "markdown",
   "metadata": {
    "colab_type": "text",
    "id": "eo_sbUCpnYie"
   },
   "source": [
    "**TASK : Plot a `scatter plot` between dependent and independent variable**"
   ]
  },
  {
   "cell_type": "code",
   "execution_count": 42,
   "metadata": {
    "_uuid": "12add1c12245a8888218152262dc4cd641b05aae",
    "colab": {},
    "colab_type": "code",
    "id": "6j0fOh85nYif"
   },
   "outputs": [
    {
     "data": {
      "image/png": "[encoded data removed]",
      "text/plain": [
       "<Figure size 432x288 with 1 Axes>"
      ]
     },
     "metadata": {
      "needs_background": "light"
     },
     "output_type": "display_data"
    }
   ],
   "source": [
    "### START CODE HERE (FULL CODE)\n",
    "plt.scatter(train['x'],train['y'])\n",
    "plt.xlabel('independent')\n",
    "plt.ylabel('dependent')\n",
    "plt.title(\"Scatter plot\")\n",
    "plt.show()\n",
    "\n",
    "### END CODE"
   ]
  },
  {
   "cell_type": "markdown",
   "metadata": {
    "colab_type": "text",
    "id": "0KLZYclvnYir"
   },
   "source": [
    "**Analyse if linear regression would be a good fit on this problem** "
   ]
  },
  {
   "cell_type": "markdown",
   "metadata": {
    "colab_type": "text",
    "id": "gxR-yq9ynYit"
   },
   "source": [
    "### `3.3` Boxplots "
   ]
  },
  {
   "cell_type": "markdown",
   "metadata": {
    "colab_type": "text",
    "id": "Ak654S3YnYiv"
   },
   "source": [
    "**TASK : Make a `boxplot` of training data**"
   ]
  },
  {
   "cell_type": "markdown",
   "metadata": {
    "colab_type": "text",
    "id": "l3Eo9levnYiw"
   },
   "source": [
    "A better understanding of boxplot would be given by the below image"
   ]
  },
  {
   "cell_type": "markdown",
   "metadata": {
    "colab_type": "text",
    "id": "CbFw05vnnYiy"
   },
   "source": [
    "<img src=\"https://i2.wp.com/flowingdata.com/wp-content/uploads/2008/02/box-plot-explained.gif?w=1090\">"
   ]
  },
  {
   "cell_type": "code",
   "execution_count": 24,
   "metadata": {
    "_cell_guid": "5f3fc82f-50e7-45ca-902c-bc19519d2267",
    "_uuid": "68fda61c91edf0c26f14b704de5a1c6951421116",
    "colab": {},
    "colab_type": "code",
    "id": "K5sjkjEpnYiz"
   },
   "outputs": [
    {
     "data": {
      "text/plain": [
       "<matplotlib.axes._subplots.AxesSubplot at 0x1e8ffbd2708>"
      ]
     },
     "execution_count": 24,
     "metadata": {},
     "output_type": "execute_result"
    },
    {
     "data": {
      "image/png": "[encoded data removed]",
      "text/plain": [
       "<Figure size 1080x504 with 1 Axes>"
      ]
     },
     "metadata": {
      "needs_background": "light"
     },
     "output_type": "display_data"
    }
   ],
   "source": [
    "### START CODE HERE (~ 2 Lines of code)\n",
    "plt.figure(figsize=(15,7))\n",
    "sb.boxplot(train)\n",
    "### END CODE"
   ]
  },
  {
   "cell_type": "markdown",
   "metadata": {
    "colab_type": "text",
    "id": "OUC9S4zxnYi-"
   },
   "source": [
    "**TASK : Split the `dependent` and `independent` variable and name them `y` and `X` respectively**"
   ]
  },
  {
   "cell_type": "code",
   "execution_count": 43,
   "metadata": {
    "_uuid": "18ba8803cdfd351e9add0744dd6028a757f4b856",
    "colab": {},
    "colab_type": "code",
    "id": "9X6Pu7pAnYjD"
   },
   "outputs": [],
   "source": [
    "### START CODE HERE (~ 2 Lines of code)\n",
    "x=train.drop('y',axis=1)\n",
    "y=train['y']\n",
    "### END CODE"
   ]
  },
  {
   "cell_type": "markdown",
   "metadata": {
    "colab_type": "text",
    "id": "oUfzpl-InYjO"
   },
   "source": [
    "## `4.` Parameter Functions"
   ]
  },
  {
   "cell_type": "markdown",
   "metadata": {
    "_uuid": "19d4299be86b93aa9a672e98a5e1b88057b338f2",
    "colab_type": "text",
    "id": "_RkSkht4nYjQ"
   },
   "source": [
    " Let's find the slop of regression line(m) and bais(y-intercept). you can find these using diffrente approaches. Like:- Ordinary Least Square approach and Gradient Descent approach.\n",
    " \n",
    "- **Ordinary Least Square**\n",
    " As you know that the relationship between independent(X) variable and dependent(y) variable is know as linear regression.\n",
    " \n",
    " **Orinary Least Sqaure** - the sum of the squares of the differences between an observation’s actual and estimated values.\n",
    "![Regression image](https://d1jnx9ba8s6j9r.cloudfront.net/blog/wp-content/uploads/2018/06/Least-Square-Method-2-399x300.png) \n",
    "Total error of this model is the sum of all errors of each point. ie.\n",
    "\n",
    "$$SE=\\sum_{i=1}^nDi^2$$\n",
    "\n",
    "    Di = Distance between line and ith point.\n",
    "    n = Total number of points\n",
    "### Let's start Implementation\n",
    "    1. Calculate Mean and Variance\n",
    "    2. Calculate Covariance.\n",
    "    3. Estimate Coefficients.\n",
    "    4. Make prediction\n",
    "    5. Evaluating Model with RMSE\n",
    "\n",
    "### `4.1`   Mean and Variance \n",
    "Mean of numbers can be calculated as: -\n",
    "\n",
    "    mean(x) = sum(x) / count(x)"
   ]
  },
  {
   "cell_type": "markdown",
   "metadata": {
    "colab_type": "text",
    "id": "R59SjC98nYjQ"
   },
   "source": [
    "**TASK : Make `functions` for mean and variance**"
   ]
  },
  {
   "cell_type": "code",
   "execution_count": 45,
   "metadata": {
    "_uuid": "20bdcbb6141f2db4bce367e6a47197f440adba8f",
    "colab": {},
    "colab_type": "code",
    "id": "qgfvXExKnYjT"
   },
   "outputs": [],
   "source": [
    "### START CODE HERE (Write the code where '#' is given) \n",
    "\n",
    "#Calculate mean of list numbers with mean function\n",
    "def mean(x):\n",
    "\treturn sum(x) / float(len(x))\n",
    "#Calculate varience of list numbers with variance function\n",
    "def variance(x, mean):\n",
    "\treturn sum([(x-mean)**2 for i in x])\n",
    "\n",
    "### END CODE"
   ]
  },
  {
   "cell_type": "markdown",
   "metadata": {
    "colab_type": "text",
    "id": "qG3ChwMpnYjd"
   },
   "source": [
    "**TASK : Find the mean and variance of X and y and store it in `X_mean` , `y_mean` , `X_variance` , `y_variance`**"
   ]
  },
  {
   "cell_type": "code",
   "execution_count": null,
   "metadata": {
    "_uuid": "96b425da4879ba8df1623ffa0ff46a250569fce3",
    "colab": {},
    "colab_type": "code",
    "id": "FkPIKLehnYjg"
   },
   "outputs": [],
   "source": [
    "### START CODE HERE \n",
    "\n",
    "\n",
    "### END CODE"
   ]
  },
  {
   "cell_type": "markdown",
   "metadata": {
    "_uuid": "0145e2fd96458418de966891e3a0d10f816a3eeb",
    "colab_type": "text",
    "id": "_CV9U3a6nYjn"
   },
   "source": [
    "### `4.2` Calculate Covariance\n",
    "covariance can describe the relationship between two or more groups of numbers. It is a generalization of correlation. Correlation describes the relationship between two groups of numbers.\n",
    " \n",
    "you can calculate the covariance between two variables as follows: \n",
    "       \n",
    "       covariance = sum((x(i) - mean(x)) * (y(i) - mean(y)))\n"
   ]
  },
  {
   "cell_type": "markdown",
   "metadata": {
    "colab_type": "text",
    "id": "oS7BI6XEnYjo"
   },
   "source": [
    "**TASK : Create function to implement `co-variance`**"
   ]
  },
  {
   "cell_type": "code",
   "execution_count": 46,
   "metadata": {
    "_uuid": "911dc9ac3ce9dcaa46f3bdf27462364fa85afd3a",
    "colab": {},
    "colab_type": "code",
    "id": "-4cTPNCAnYjq"
   },
   "outputs": [],
   "source": [
    "### START CODE HERE (Write code where '#' is given)\n",
    "def covariance(x, mean_x, y, mean_y):\n",
    "\tcovar = 0.0\n",
    "\tfor i in range(len(x)):\n",
    "\t\tcovar += (x[i] - mean_x) * (y[i] - mean_y)\n",
    "\treturn covar\n",
    "\n",
    "### END CODE"
   ]
  },
  {
   "cell_type": "markdown",
   "metadata": {
    "_uuid": "7a068d7e2f19d9a5cc0a3205a4fe1fd0ef1ec7a1",
    "colab_type": "text",
    "id": "reFxTLy4nYj2"
   },
   "source": [
    "### `4.3` Coefficients\n",
    "Estimate two coefficients in simple linear regression. which is m and b.\n",
    "\n",
    "    m = covariance() / variance()\n",
    "    b = mean(y) - (m*mean(X))"
   ]
  },
  {
   "cell_type": "markdown",
   "metadata": {
    "colab_type": "text",
    "id": "OD9aKGj9nYj5"
   },
   "source": [
    "**TASK : Make a function `coefficients()` which returns m,b**"
   ]
  },
  {
   "cell_type": "code",
   "execution_count": null,
   "metadata": {
    "_uuid": "39e940273f0b47de2835aa82c1cdfc610f383258",
    "colab": {},
    "colab_type": "code",
    "id": "t18Bo43pnYj7"
   },
   "outputs": [],
   "source": [
    "### START CODE HERE (Write code where '#' is given) \n",
    "def coefficients(dataset):\n",
    "\tx_mean, y_mean = mean(x), mean(y)\n",
    "\tb1 = covariance(x, x_mean, y, y_mean) / variance(x, x_mean)\n",
    "\tb0 = y_mean - b1 * x_mean\n",
    "\treturn [b0, b1]\n",
    "\n",
    "### END CODE"
   ]
  },
  {
   "cell_type": "markdown",
   "metadata": {
    "_uuid": "3793249692f5fae38adfbed8d3ed316c286bb4f6",
    "colab_type": "text",
    "id": "XlvUV_zMnYkF"
   },
   "source": [
    "you have estimated the coefficients. Now, you can use them to make predictions follows by this eqation: -\n",
    "\n",
    "       y = mX + b\n",
    " "
   ]
  },
  {
   "cell_type": "markdown",
   "metadata": {
    "colab_type": "text",
    "id": "7Y7E1RV9nYkH"
   },
   "source": [
    "### `4.4` Splitting Test Data "
   ]
  },
  {
   "cell_type": "markdown",
   "metadata": {
    "colab_type": "text",
    "id": "f2CaggtWnYkL"
   },
   "source": [
    "**TASK : Separate the `Test` dataset into X_test and y_test while reshaping it to (-1,1)**"
   ]
  },
  {
   "cell_type": "code",
   "execution_count": null,
   "metadata": {
    "_uuid": "efef2dc5c012a07b9800a518fe726c6fe2bfa684",
    "colab": {},
    "colab_type": "code",
    "id": "n1-sSA6CnYkO"
   },
   "outputs": [],
   "source": [
    "### START CODE HERE (Write code where '#' is given)\n",
    "X_test=test.drop('y',axis=1)\n",
    "y_test=test['y']\n",
    "\n",
    "### END CODE"
   ]
  },
  {
   "cell_type": "markdown",
   "metadata": {
    "colab_type": "text",
    "id": "AOxDyUeNnYkf"
   },
   "source": [
    "## `5.` Linear Regression Model and Predictions"
   ]
  },
  {
   "cell_type": "markdown",
   "metadata": {
    "colab_type": "text",
    "id": "oEXo4aennYkk"
   },
   "source": [
    "**TASK : Make a function to evaluate `linear_regression` with above calculated parameters**"
   ]
  },
  {
   "cell_type": "markdown",
   "metadata": {
    "colab_type": "text",
    "id": "jjdWTAUGnYkm"
   },
   "source": [
    "Use the formula Y= mX + c"
   ]
  },
  {
   "cell_type": "code",
   "execution_count": null,
   "metadata": {
    "_uuid": "0fb604f853aaf6c316a8ae5855bed927870bda34",
    "colab": {},
    "colab_type": "code",
    "id": "Dzr9-_qdnYkp"
   },
   "outputs": [],
   "source": [
    "### START CODE HERE (Write code where '#' is given)\n",
    "def simple_linear_regression(train, test):\n",
    "\tpredictions = list()\n",
    "\tb0, b1 = coefficients(train)\n",
    "\tfor row in test:\n",
    "\t\tyhat = b0 + b1 * row[0]\n",
    "\t\tpredictions.append(yhat)\n",
    "\treturn predictions\n",
    "\n",
    "\n",
    "### END CODE"
   ]
  },
  {
   "cell_type": "markdown",
   "metadata": {
    "colab_type": "text",
    "id": "ZfaL2uRtnYk-"
   },
   "source": [
    "**TASK : Make a line plot of the predictions and a scatter plot of the dataset**"
   ]
  },
  {
   "cell_type": "code",
   "execution_count": null,
   "metadata": {
    "_uuid": "0aec4e8d24683f9684ede4efefa2ef1cb2bec32d",
    "colab": {},
    "colab_type": "code",
    "id": "f1Q03yRRnYlF"
   },
   "outputs": [],
   "source": [
    "predict = simple_linear_regression()"
   ]
  },
  {
   "cell_type": "code",
   "execution_count": null,
   "metadata": {
    "_uuid": "144eff0de9c4e04d89663439309b4450e9addf1d",
    "colab": {},
    "colab_type": "code",
    "id": "FX9lwH4EnYle"
   },
   "outputs": [],
   "source": [
    "### START CODE HERE (FULL CODE)\n",
    "\n",
    "plt.line(predictions)\n",
    "\n",
    "### END CODE"
   ]
  },
  {
   "cell_type": "markdown",
   "metadata": {
    "_cell_guid": "13222632-be5a-4810-b951-fae4cecc3008",
    "_uuid": "00b6d93cf84438168b51bbdcc7d0fc4a9920b58c",
    "colab_type": "text",
    "id": "qMvGIu7dnYlr"
   },
   "source": [
    "## `6.` RMSE Function Building and Calculation\n",
    "We need to find how good is our model. There are many methods to evaluate models. Here we will use **Root Mean Sqare Error** \n",
    "\n",
    "**Root Mean Sqare Error** is the square root of the sum of all errors divided by the number of values.\n",
    "![RMSE](https://cdn-images-1.medium.com/max/800/1*SGBsn7WytmYYbuTgDatIpw.gif)\n",
    "\n",
    "Here yhat is the ith predicted output values or simply yhat = mX + c\n"
   ]
  },
  {
   "cell_type": "markdown",
   "metadata": {
    "_uuid": "e7e485b57633af13fbe0efc60ae99abffaa1b336",
    "colab_type": "text",
    "id": "HB3kGnzxnYlt"
   },
   "source": [
    "**TASK : Make `Root_mean_square_error` function**"
   ]
  },
  {
   "cell_type": "code",
   "execution_count": null,
   "metadata": {
    "_cell_guid": "dc268492-f926-45d4-8ca3-d42e53e8742c",
    "_uuid": "d7cb72413fb097802a5969e876ee6741c3705013",
    "colab": {},
    "colab_type": "code",
    "id": "_LtVxywWnYlw",
    "scrolled": true
   },
   "outputs": [],
   "source": [
    "### START CODE HERE (Write code where '#' is given) \n",
    "def rmse_metric(actual, predicted):\n",
    "\tsum_error = 0.0\n",
    "\tfor i in range(len(actual)):\n",
    "\t\tprediction_error = predicted[i] - actual[i]\n",
    "\t\tsum_error += (prediction_error ** 2)\n",
    "\tmean_error = sum_error / float(len(actual))\n",
    "\treturn sqrt(mean_error)\n",
    "### END CODE "
   ]
  },
  {
   "cell_type": "markdown",
   "metadata": {
    "colab_type": "text",
    "id": "qAcmU-TAnYl9"
   },
   "source": [
    "**TASK : Calculate RMSE using made function**"
   ]
  },
  {
   "cell_type": "code",
   "execution_count": null,
   "metadata": {
    "_cell_guid": "cecc94e0-a04e-4bee-9f48-73e88c1201b8",
    "_uuid": "addb202225c4ebd4e2fd35065e1481f5da116dca",
    "colab": {},
    "colab_type": "code",
    "id": "1I9RlIdBnYl-"
   },
   "outputs": [],
   "source": [
    "from sklearn.metrics import mean_squared_error\n",
    "from math import sqrt\n",
    "rmse = sqrt(mean_squared_error(actual,predicted))\n",
    "print(rmse)"
   ]
  },
  {
   "cell_type": "markdown",
   "metadata": {
    "_uuid": "1bc945986fcac42c6b6cd3104f52a56a2f8e5e2d",
    "colab_type": "text",
    "id": "Ce_5hrM9nYmI"
   },
   "source": [
    "## Conclusion"
   ]
  },
  {
   "cell_type": "code",
   "execution_count": null,
   "metadata": {
    "colab": {},
    "colab_type": "code",
    "id": "Kmznzde-nYmK"
   },
   "outputs": [],
   "source": []
  }
 ],
 "metadata": {
  "colab": {
   "name": "Linear Regression from Scratch for Single Attribute (Todo Template).ipynb",
   "provenance": []
  },
  "kernelspec": {
   "display_name": "Python 3",
   "language": "python",
   "name": "python3"
  },
  "language_info": {
   "codemirror_mode": {
    "name": "ipython",
    "version": 3
   },
   "file_extension": ".py",
   "mimetype": "text/x-python",
   "name": "python",
   "nbconvert_exporter": "python",
   "pygments_lexer": "ipython3",
   "version": "3.7.6"
  }
 },
 "nbformat": 4,
 "nbformat_minor": 1
}
