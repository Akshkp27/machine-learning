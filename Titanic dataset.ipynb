{
 "cells": [
  {
   "cell_type": "code",
   "execution_count": 1,
   "metadata": {
    "_cell_guid": "b1076dfc-b9ad-4769-8c92-a6c4dae69d19",
    "_uuid": "8f2839f25d086af736a60e9eeb907d3b93b6e0e5",
    "execution": {
     "iopub.execute_input": "2020-12-19T20:12:40.855439Z",
     "iopub.status.busy": "2020-12-19T20:12:40.854523Z",
     "iopub.status.idle": "2020-12-19T20:12:42.012450Z",
     "shell.execute_reply": "2020-12-19T20:12:42.011635Z"
    },
    "papermill": {
     "duration": 1.247206,
     "end_time": "2020-12-19T20:12:42.012589",
     "exception": false,
     "start_time": "2020-12-19T20:12:40.765383",
     "status": "completed"
    },
    "tags": []
   },
   "outputs": [
    {
     "name": "stdout",
     "output_type": "stream",
     "text": [
      "Setup complete.\n"
     ]
    }
   ],
   "source": [
    "import numpy as np \n",
    "import pandas as pd\n",
    "import os\n",
    "import re\n",
    "import scipy.stats\n",
    "\n",
    "import seaborn as sns\n",
    "import matplotlib.pyplot as plt\n",
    "# %matplotlib inline\n",
    "\n",
    "from sklearn.model_selection import RandomizedSearchCV\n",
    "from sklearn.metrics import accuracy_score\n",
    "\n",
    "SEED = 7\n",
    "\n",
    "print(\"Setup complete.\")"
   ]
  },
  {
   "cell_type": "code",
   "execution_count": null,
   "metadata": {
    "papermill": {
     "duration": 0.080283,
     "end_time": "2020-12-19T20:12:42.174518",
     "exception": false,
     "start_time": "2020-12-19T20:12:42.094235",
     "status": "completed"
    },
    "tags": []
   },
   "outputs": [],
   "source": []
  },
  {
   "cell_type": "markdown",
   "metadata": {
    "papermill": {
     "duration": 0.08181,
     "end_time": "2020-12-19T20:12:42.337642",
     "exception": false,
     "start_time": "2020-12-19T20:12:42.255832",
     "status": "completed"
    },
    "tags": []
   },
   "source": [
    "# Feature engineering"
   ]
  },
  {
   "cell_type": "code",
   "execution_count": 2,
   "metadata": {
    "_cell_guid": "79c7e3d0-c299-4dcb-8224-4455121ee9b0",
    "_uuid": "d629ff2d2480ee46fbb7e2d37f6b5fab8052498a",
    "execution": {
     "iopub.execute_input": "2020-12-19T20:12:42.504561Z",
     "iopub.status.busy": "2020-12-19T20:12:42.503723Z",
     "iopub.status.idle": "2020-12-19T20:12:42.571249Z",
     "shell.execute_reply": "2020-12-19T20:12:42.571962Z"
    },
    "papermill": {
     "duration": 0.152138,
     "end_time": "2020-12-19T20:12:42.572124",
     "exception": false,
     "start_time": "2020-12-19T20:12:42.419986",
     "status": "completed"
    },
    "tags": []
   },
   "outputs": [
    {
     "data": {
      "text/html": [
       "<div>\n",
       "<style scoped>\n",
       "    .dataframe tbody tr th:only-of-type {\n",
       "        vertical-align: middle;\n",
       "    }\n",
       "\n",
       "    .dataframe tbody tr th {\n",
       "        vertical-align: top;\n",
       "    }\n",
       "\n",
       "    .dataframe thead th {\n",
       "        text-align: right;\n",
       "    }\n",
       "</style>\n",
       "<table border=\"1\" class=\"dataframe\">\n",
       "  <thead>\n",
       "    <tr style=\"text-align: right;\">\n",
       "      <th></th>\n",
       "      <th>PassengerId</th>\n",
       "      <th>Survived</th>\n",
       "      <th>Pclass</th>\n",
       "      <th>Name</th>\n",
       "      <th>Sex</th>\n",
       "      <th>Age</th>\n",
       "      <th>SibSp</th>\n",
       "      <th>Parch</th>\n",
       "      <th>Ticket</th>\n",
       "      <th>Fare</th>\n",
       "      <th>Cabin</th>\n",
       "      <th>Embarked</th>\n",
       "    </tr>\n",
       "  </thead>\n",
       "  <tbody>\n",
       "    <tr>\n",
       "      <th>0</th>\n",
       "      <td>1</td>\n",
       "      <td>0</td>\n",
       "      <td>3</td>\n",
       "      <td>Braund, Mr. Owen Harris</td>\n",
       "      <td>male</td>\n",
       "      <td>22.0</td>\n",
       "      <td>1</td>\n",
       "      <td>0</td>\n",
       "      <td>A/5 21171</td>\n",
       "      <td>7.2500</td>\n",
       "      <td>NaN</td>\n",
       "      <td>S</td>\n",
       "    </tr>\n",
       "    <tr>\n",
       "      <th>1</th>\n",
       "      <td>2</td>\n",
       "      <td>1</td>\n",
       "      <td>1</td>\n",
       "      <td>Cumings, Mrs. John Bradley (Florence Briggs Th...</td>\n",
       "      <td>female</td>\n",
       "      <td>38.0</td>\n",
       "      <td>1</td>\n",
       "      <td>0</td>\n",
       "      <td>PC 17599</td>\n",
       "      <td>71.2833</td>\n",
       "      <td>C85</td>\n",
       "      <td>C</td>\n",
       "    </tr>\n",
       "    <tr>\n",
       "      <th>2</th>\n",
       "      <td>3</td>\n",
       "      <td>1</td>\n",
       "      <td>3</td>\n",
       "      <td>Heikkinen, Miss. Laina</td>\n",
       "      <td>female</td>\n",
       "      <td>26.0</td>\n",
       "      <td>0</td>\n",
       "      <td>0</td>\n",
       "      <td>STON/O2. 3101282</td>\n",
       "      <td>7.9250</td>\n",
       "      <td>NaN</td>\n",
       "      <td>S</td>\n",
       "    </tr>\n",
       "    <tr>\n",
       "      <th>3</th>\n",
       "      <td>4</td>\n",
       "      <td>1</td>\n",
       "      <td>1</td>\n",
       "      <td>Futrelle, Mrs. Jacques Heath (Lily May Peel)</td>\n",
       "      <td>female</td>\n",
       "      <td>35.0</td>\n",
       "      <td>1</td>\n",
       "      <td>0</td>\n",
       "      <td>113803</td>\n",
       "      <td>53.1000</td>\n",
       "      <td>C123</td>\n",
       "      <td>S</td>\n",
       "    </tr>\n",
       "    <tr>\n",
       "      <th>4</th>\n",
       "      <td>5</td>\n",
       "      <td>0</td>\n",
       "      <td>3</td>\n",
       "      <td>Allen, Mr. William Henry</td>\n",
       "      <td>male</td>\n",
       "      <td>35.0</td>\n",
       "      <td>0</td>\n",
       "      <td>0</td>\n",
       "      <td>373450</td>\n",
       "      <td>8.0500</td>\n",
       "      <td>NaN</td>\n",
       "      <td>S</td>\n",
       "    </tr>\n",
       "    <tr>\n",
       "      <th>...</th>\n",
       "      <td>...</td>\n",
       "      <td>...</td>\n",
       "      <td>...</td>\n",
       "      <td>...</td>\n",
       "      <td>...</td>\n",
       "      <td>...</td>\n",
       "      <td>...</td>\n",
       "      <td>...</td>\n",
       "      <td>...</td>\n",
       "      <td>...</td>\n",
       "      <td>...</td>\n",
       "      <td>...</td>\n",
       "    </tr>\n",
       "    <tr>\n",
       "      <th>886</th>\n",
       "      <td>887</td>\n",
       "      <td>0</td>\n",
       "      <td>2</td>\n",
       "      <td>Montvila, Rev. Juozas</td>\n",
       "      <td>male</td>\n",
       "      <td>27.0</td>\n",
       "      <td>0</td>\n",
       "      <td>0</td>\n",
       "      <td>211536</td>\n",
       "      <td>13.0000</td>\n",
       "      <td>NaN</td>\n",
       "      <td>S</td>\n",
       "    </tr>\n",
       "    <tr>\n",
       "      <th>887</th>\n",
       "      <td>888</td>\n",
       "      <td>1</td>\n",
       "      <td>1</td>\n",
       "      <td>Graham, Miss. Margaret Edith</td>\n",
       "      <td>female</td>\n",
       "      <td>19.0</td>\n",
       "      <td>0</td>\n",
       "      <td>0</td>\n",
       "      <td>112053</td>\n",
       "      <td>30.0000</td>\n",
       "      <td>B42</td>\n",
       "      <td>S</td>\n",
       "    </tr>\n",
       "    <tr>\n",
       "      <th>888</th>\n",
       "      <td>889</td>\n",
       "      <td>0</td>\n",
       "      <td>3</td>\n",
       "      <td>Johnston, Miss. Catherine Helen \"Carrie\"</td>\n",
       "      <td>female</td>\n",
       "      <td>NaN</td>\n",
       "      <td>1</td>\n",
       "      <td>2</td>\n",
       "      <td>W./C. 6607</td>\n",
       "      <td>23.4500</td>\n",
       "      <td>NaN</td>\n",
       "      <td>S</td>\n",
       "    </tr>\n",
       "    <tr>\n",
       "      <th>889</th>\n",
       "      <td>890</td>\n",
       "      <td>1</td>\n",
       "      <td>1</td>\n",
       "      <td>Behr, Mr. Karl Howell</td>\n",
       "      <td>male</td>\n",
       "      <td>26.0</td>\n",
       "      <td>0</td>\n",
       "      <td>0</td>\n",
       "      <td>111369</td>\n",
       "      <td>30.0000</td>\n",
       "      <td>C148</td>\n",
       "      <td>C</td>\n",
       "    </tr>\n",
       "    <tr>\n",
       "      <th>890</th>\n",
       "      <td>891</td>\n",
       "      <td>0</td>\n",
       "      <td>3</td>\n",
       "      <td>Dooley, Mr. Patrick</td>\n",
       "      <td>male</td>\n",
       "      <td>32.0</td>\n",
       "      <td>0</td>\n",
       "      <td>0</td>\n",
       "      <td>370376</td>\n",
       "      <td>7.7500</td>\n",
       "      <td>NaN</td>\n",
       "      <td>Q</td>\n",
       "    </tr>\n",
       "  </tbody>\n",
       "</table>\n",
       "<p>891 rows × 12 columns</p>\n",
       "</div>"
      ],
      "text/plain": [
       "     PassengerId  Survived  Pclass  \\\n",
       "0              1         0       3   \n",
       "1              2         1       1   \n",
       "2              3         1       3   \n",
       "3              4         1       1   \n",
       "4              5         0       3   \n",
       "..           ...       ...     ...   \n",
       "886          887         0       2   \n",
       "887          888         1       1   \n",
       "888          889         0       3   \n",
       "889          890         1       1   \n",
       "890          891         0       3   \n",
       "\n",
       "                                                  Name     Sex   Age  SibSp  \\\n",
       "0                              Braund, Mr. Owen Harris    male  22.0      1   \n",
       "1    Cumings, Mrs. John Bradley (Florence Briggs Th...  female  38.0      1   \n",
       "2                               Heikkinen, Miss. Laina  female  26.0      0   \n",
       "3         Futrelle, Mrs. Jacques Heath (Lily May Peel)  female  35.0      1   \n",
       "4                             Allen, Mr. William Henry    male  35.0      0   \n",
       "..                                                 ...     ...   ...    ...   \n",
       "886                              Montvila, Rev. Juozas    male  27.0      0   \n",
       "887                       Graham, Miss. Margaret Edith  female  19.0      0   \n",
       "888           Johnston, Miss. Catherine Helen \"Carrie\"  female   NaN      1   \n",
       "889                              Behr, Mr. Karl Howell    male  26.0      0   \n",
       "890                                Dooley, Mr. Patrick    male  32.0      0   \n",
       "\n",
       "     Parch            Ticket     Fare Cabin Embarked  \n",
       "0        0         A/5 21171   7.2500   NaN        S  \n",
       "1        0          PC 17599  71.2833   C85        C  \n",
       "2        0  STON/O2. 3101282   7.9250   NaN        S  \n",
       "3        0            113803  53.1000  C123        S  \n",
       "4        0            373450   8.0500   NaN        S  \n",
       "..     ...               ...      ...   ...      ...  \n",
       "886      0            211536  13.0000   NaN        S  \n",
       "887      0            112053  30.0000   B42        S  \n",
       "888      2        W./C. 6607  23.4500   NaN        S  \n",
       "889      0            111369  30.0000  C148        C  \n",
       "890      0            370376   7.7500   NaN        Q  \n",
       "\n",
       "[891 rows x 12 columns]"
      ]
     },
     "execution_count": 2,
     "metadata": {},
     "output_type": "execute_result"
    }
   ],
   "source": [
    "train = pd.read_csv(\"../input/titanic/train.csv\")\n",
    "test = pd.read_csv(\"../input/titanic/test.csv\")\n",
    "datasets = [train, test]\n",
    "\n",
    "train"
   ]
  },
  {
   "cell_type": "markdown",
   "metadata": {
    "papermill": {
     "duration": 0.083213,
     "end_time": "2020-12-19T20:12:42.737367",
     "exception": false,
     "start_time": "2020-12-19T20:12:42.654154",
     "status": "completed"
    },
    "tags": []
   },
   "source": [
    "Here, we check each and every feature.\n",
    "\n",
    "Running the following commands, we see there are 12 columns in the training data, 3 of which having NaN -- \"Age\", \"Cabin\" and \"Embarked\". Also, the 3 columns of \"Age\", \"Fare\" and \"Cabin\" in the test dataset include missing values. We'll take care of these columns later."
   ]
  },
  {
   "cell_type": "code",
   "execution_count": 3,
   "metadata": {
    "execution": {
     "iopub.execute_input": "2020-12-19T20:12:42.919713Z",
     "iopub.status.busy": "2020-12-19T20:12:42.918675Z",
     "iopub.status.idle": "2020-12-19T20:12:42.923655Z",
     "shell.execute_reply": "2020-12-19T20:12:42.922820Z"
    },
    "papermill": {
     "duration": 0.103361,
     "end_time": "2020-12-19T20:12:42.923814",
     "exception": false,
     "start_time": "2020-12-19T20:12:42.820453",
     "status": "completed"
    },
    "tags": []
   },
   "outputs": [
    {
     "name": "stdout",
     "output_type": "stream",
     "text": [
      "<class 'pandas.core.frame.DataFrame'>\n",
      "RangeIndex: 891 entries, 0 to 890\n",
      "Data columns (total 12 columns):\n",
      " #   Column       Non-Null Count  Dtype  \n",
      "---  ------       --------------  -----  \n",
      " 0   PassengerId  891 non-null    int64  \n",
      " 1   Survived     891 non-null    int64  \n",
      " 2   Pclass       891 non-null    int64  \n",
      " 3   Name         891 non-null    object \n",
      " 4   Sex          891 non-null    object \n",
      " 5   Age          714 non-null    float64\n",
      " 6   SibSp        891 non-null    int64  \n",
      " 7   Parch        891 non-null    int64  \n",
      " 8   Ticket       891 non-null    object \n",
      " 9   Fare         891 non-null    float64\n",
      " 10  Cabin        204 non-null    object \n",
      " 11  Embarked     889 non-null    object \n",
      "dtypes: float64(2), int64(5), object(5)\n",
      "memory usage: 83.7+ KB\n"
     ]
    }
   ],
   "source": [
    "train.info()"
   ]
  },
  {
   "cell_type": "code",
   "execution_count": 4,
   "metadata": {
    "execution": {
     "iopub.execute_input": "2020-12-19T20:12:43.101888Z",
     "iopub.status.busy": "2020-12-19T20:12:43.095713Z",
     "iopub.status.idle": "2020-12-19T20:12:43.106297Z",
     "shell.execute_reply": "2020-12-19T20:12:43.105510Z"
    },
    "papermill": {
     "duration": 0.099469,
     "end_time": "2020-12-19T20:12:43.106449",
     "exception": false,
     "start_time": "2020-12-19T20:12:43.006980",
     "status": "completed"
    },
    "tags": []
   },
   "outputs": [
    {
     "name": "stdout",
     "output_type": "stream",
     "text": [
      "<class 'pandas.core.frame.DataFrame'>\n",
      "RangeIndex: 418 entries, 0 to 417\n",
      "Data columns (total 11 columns):\n",
      " #   Column       Non-Null Count  Dtype  \n",
      "---  ------       --------------  -----  \n",
      " 0   PassengerId  418 non-null    int64  \n",
      " 1   Pclass       418 non-null    int64  \n",
      " 2   Name         418 non-null    object \n",
      " 3   Sex          418 non-null    object \n",
      " 4   Age          332 non-null    float64\n",
      " 5   SibSp        418 non-null    int64  \n",
      " 6   Parch        418 non-null    int64  \n",
      " 7   Ticket       418 non-null    object \n",
      " 8   Fare         417 non-null    float64\n",
      " 9   Cabin        91 non-null     object \n",
      " 10  Embarked     418 non-null    object \n",
      "dtypes: float64(2), int64(4), object(5)\n",
      "memory usage: 36.0+ KB\n"
     ]
    }
   ],
   "source": [
    "test.info()"
   ]
  },
  {
   "cell_type": "markdown",
   "metadata": {
    "papermill": {
     "duration": 0.084649,
     "end_time": "2020-12-19T20:12:43.275308",
     "exception": false,
     "start_time": "2020-12-19T20:12:43.190659",
     "status": "completed"
    },
    "tags": []
   },
   "source": [
    "The features are listed as above.\n",
    "\n",
    "### 0. PassengerId\n",
    "This column includes IDs and doesn't affrect the survival."
   ]
  },
  {
   "cell_type": "markdown",
   "metadata": {
    "papermill": {
     "duration": 0.082819,
     "end_time": "2020-12-19T20:12:43.442965",
     "exception": false,
     "start_time": "2020-12-19T20:12:43.360146",
     "status": "completed"
    },
    "tags": []
   },
   "source": [
    "### 1. Survived\n",
    "This is the target column."
   ]
  },
  {
   "cell_type": "markdown",
   "metadata": {
    "papermill": {
     "duration": 0.08286,
     "end_time": "2020-12-19T20:12:43.609699",
     "exception": false,
     "start_time": "2020-12-19T20:12:43.526839",
     "status": "completed"
    },
    "tags": []
   },
   "source": [
    "### 2. Pclass\n",
    "\n",
    "This is the ticket class, with the numeric values 1=1st, 2=2nd, 3=3rd and no NaN."
   ]
  },
  {
   "cell_type": "code",
   "execution_count": 5,
   "metadata": {
    "execution": {
     "iopub.execute_input": "2020-12-19T20:12:43.807787Z",
     "iopub.status.busy": "2020-12-19T20:12:43.806912Z",
     "iopub.status.idle": "2020-12-19T20:12:44.044255Z",
     "shell.execute_reply": "2020-12-19T20:12:44.043569Z"
    },
    "papermill": {
     "duration": 0.351912,
     "end_time": "2020-12-19T20:12:44.044375",
     "exception": false,
     "start_time": "2020-12-19T20:12:43.692463",
     "status": "completed"
    },
    "tags": []
   },
   "outputs": [
    {
     "data": {
      "image/png": "[encoded data removed]",
      "text/plain": [
       "<Figure size 432x288 with 1 Axes>"
      ]
     },
     "metadata": {
      "needs_background": "light"
     },
     "output_type": "display_data"
    }
   ],
   "source": [
    "sns.countplot(data=train, x='Pclass', hue='Survived')\n",
    "plt.show() # To remove extra message shown on screen"
   ]
  },
  {
   "cell_type": "markdown",
   "metadata": {
    "papermill": {
     "duration": 0.044228,
     "end_time": "2020-12-19T20:12:44.146301",
     "exception": false,
     "start_time": "2020-12-19T20:12:44.102073",
     "status": "completed"
    },
    "tags": []
   },
   "source": [
    "### 3. Name\n",
    "Each name in the dataset is associated with a title. Instead of 'Name' that is observed once, probably, for each passenger, we can use a common feature, title, to group passengers."
   ]
  },
  {
   "cell_type": "code",
   "execution_count": 6,
   "metadata": {
    "execution": {
     "iopub.execute_input": "2020-12-19T20:12:44.260743Z",
     "iopub.status.busy": "2020-12-19T20:12:44.248736Z",
     "iopub.status.idle": "2020-12-19T20:12:44.680221Z",
     "shell.execute_reply": "2020-12-19T20:12:44.680741Z"
    },
    "papermill": {
     "duration": 0.4935,
     "end_time": "2020-12-19T20:12:44.680999",
     "exception": false,
     "start_time": "2020-12-19T20:12:44.187499",
     "status": "completed"
    },
    "tags": []
   },
   "outputs": [
    {
     "data": {
      "image/png": "[encoded data removed]",
      "text/plain": [
       "<Figure size 648x288 with 2 Axes>"
      ]
     },
     "metadata": {
      "needs_background": "light"
     },
     "output_type": "display_data"
    }
   ],
   "source": [
    "def get_title(name):\n",
    "    reg_exp = re.search(' ([A-Za-z]+)\\.', name)\n",
    "    return reg_exp.group(1) if reg_exp else \"\"\n",
    "\n",
    "# Number of different titles\n",
    "fig, ax = plt.subplots(1, 2, figsize=(9, 4), sharex=True)\n",
    "\n",
    "sns.countplot(data=train, y=train['Name'].apply(get_title), ax=ax[0])\n",
    "ax[0].set(title='Train', ylabel='')\n",
    "\n",
    "sns.countplot(data=test, y=test['Name'].apply(get_title), ax=ax[1])\n",
    "ax[1].set(title='Test', ylabel='')\n",
    "plt.show()"
   ]
  },
  {
   "cell_type": "markdown",
   "metadata": {
    "papermill": {
     "duration": 0.05722,
     "end_time": "2020-12-19T20:12:44.796412",
     "exception": false,
     "start_time": "2020-12-19T20:12:44.739192",
     "status": "completed"
    },
    "tags": []
   },
   "source": [
    "Some titles can be replaced by another one, e.g. 'Mlle'=Mademoiselle (French) with 'Miss'. Also, most titles are rare, e.g. 'Col' that is used only for 2 passengers, so it'd be helpful to replace them with 'Rare'."
   ]
  },
  {
   "cell_type": "code",
   "execution_count": 7,
   "metadata": {
    "execution": {
     "iopub.execute_input": "2020-12-19T20:12:44.999870Z",
     "iopub.status.busy": "2020-12-19T20:12:44.999183Z",
     "iopub.status.idle": "2020-12-19T20:12:45.305574Z",
     "shell.execute_reply": "2020-12-19T20:12:45.306309Z"
    },
    "papermill": {
     "duration": 0.451524,
     "end_time": "2020-12-19T20:12:45.306454",
     "exception": false,
     "start_time": "2020-12-19T20:12:44.854930",
     "status": "completed"
    },
    "tags": []
   },
   "outputs": [
    {
     "data": {
      "image/png": "[encoded data removed]",
      "text/plain": [
       "<Figure size 648x288 with 2 Axes>"
      ]
     },
     "metadata": {
      "needs_background": "light"
     },
     "output_type": "display_data"
    }
   ],
   "source": [
    "for ds in datasets:\n",
    "    # Add Title column\n",
    "    ds['Title'] = ds['Name'].apply(get_title)\n",
    "    # Replacement\n",
    "    ds['Title'] = \\\n",
    "        ds['Title'].replace(['Mlle', 'Ms'], 'Miss').replace('Mme', 'Mrs')\n",
    "    rare = ['Capt', 'Col', 'Countess', 'Don', 'Dona', 'Dr', 'Jonkheer', \n",
    "            'Lady', 'Major', 'Rev', 'Sir']\n",
    "    ds['Title'] = ds['Title'].replace(rare, 'Rare')\n",
    "\n",
    "# Number of different titles\n",
    "fig, ax = plt.subplots(1, 2, figsize=(9, 4), sharex=True)\n",
    "\n",
    "sns.countplot(data=train, y='Title', ax=ax[0])\n",
    "ax[0].set(title='Train', ylabel='')\n",
    "\n",
    "sns.countplot(data=test, y='Title', ax=ax[1])\n",
    "ax[1].set(title='Test', ylabel='')\n",
    "plt.show()"
   ]
  },
  {
   "cell_type": "markdown",
   "metadata": {
    "papermill": {
     "duration": 0.057632,
     "end_time": "2020-12-19T20:12:45.422663",
     "exception": false,
     "start_time": "2020-12-19T20:12:45.365031",
     "status": "completed"
    },
    "tags": []
   },
   "source": [
    "### 4. Sex\n",
    "There is no NaN in this column."
   ]
  },
  {
   "cell_type": "code",
   "execution_count": 8,
   "metadata": {
    "execution": {
     "iopub.execute_input": "2020-12-19T20:12:45.548186Z",
     "iopub.status.busy": "2020-12-19T20:12:45.547477Z",
     "iopub.status.idle": "2020-12-19T20:12:45.717996Z",
     "shell.execute_reply": "2020-12-19T20:12:45.717329Z"
    },
    "papermill": {
     "duration": 0.236246,
     "end_time": "2020-12-19T20:12:45.718105",
     "exception": false,
     "start_time": "2020-12-19T20:12:45.481859",
     "status": "completed"
    },
    "tags": []
   },
   "outputs": [
    {
     "data": {
      "image/png": "[encoded data removed]",
      "text/plain": [
       "<Figure size 432x288 with 1 Axes>"
      ]
     },
     "metadata": {
      "needs_background": "light"
     },
     "output_type": "display_data"
    }
   ],
   "source": [
    "sns.countplot(data=train, x='Sex', hue='Survived')\n",
    "plt.show()"
   ]
  },
  {
   "cell_type": "markdown",
   "metadata": {
    "papermill": {
     "duration": 0.060637,
     "end_time": "2020-12-19T20:12:45.839087",
     "exception": false,
     "start_time": "2020-12-19T20:12:45.778450",
     "status": "completed"
    },
    "tags": []
   },
   "source": [
    "### 5. Age\n",
    "In this column, there is plenty of missing values. To impute, we can use random numbers in the range of mean - std ($\\mu - \\sigma$) and mean + std ($\\mu + \\sigma$). Statistically speaking, 68% of data is in this range.\n",
    "\n",
    "Then, we categorise \"Age\" into 4 categories of <= 14 years (children), (14, 24] years (youth), (24, 64] years (adults) and > 64 years (seniors)."
   ]
  },
  {
   "cell_type": "code",
   "execution_count": 9,
   "metadata": {
    "execution": {
     "iopub.execute_input": "2020-12-19T20:12:45.982141Z",
     "iopub.status.busy": "2020-12-19T20:12:45.966372Z",
     "iopub.status.idle": "2020-12-19T20:12:46.169952Z",
     "shell.execute_reply": "2020-12-19T20:12:46.170444Z"
    },
    "papermill": {
     "duration": 0.272562,
     "end_time": "2020-12-19T20:12:46.170592",
     "exception": false,
     "start_time": "2020-12-19T20:12:45.898030",
     "status": "completed"
    },
    "tags": []
   },
   "outputs": [
    {
     "data": {
      "image/png": "[encoded data removed]",
      "text/plain": [
       "<Figure size 432x288 with 1 Axes>"
      ]
     },
     "metadata": {
      "needs_background": "light"
     },
     "output_type": "display_data"
    }
   ],
   "source": [
    "for ds in datasets:\n",
    "    # Imputate (fill missing values)\n",
    "    def rand_ages():\n",
    "        np.random.seed(SEED)\n",
    "        return np.random.randint(low=ds['Age'].mean() - ds['Age'].std(),\n",
    "                                 high=ds['Age'].mean() + ds['Age'].std(),\n",
    "                                 size=ds['Age'].isnull().sum())\n",
    "    ds.loc[ds['Age'].isnull(), 'Age'] = rand_ages()\n",
    "\n",
    "    # Categorise\n",
    "    ds['Age'] = pd.cut(\n",
    "        ds['Age'], bins=[-np.inf, 14, 24, 64, np.inf], labels=range(4))\n",
    "    ds.loc[:, 'Age'] = ds['Age'].astype(int)\n",
    "    \n",
    "# Plot\n",
    "ax = sns.countplot(data=train, x='Age', hue='Survived')\n",
    "ax.set_xlabel('Age category')\n",
    "plt.show()"
   ]
  },
  {
   "cell_type": "markdown",
   "metadata": {
    "papermill": {
     "duration": 0.043318,
     "end_time": "2020-12-19T20:12:46.263526",
     "exception": false,
     "start_time": "2020-12-19T20:12:46.220208",
     "status": "completed"
    },
    "tags": []
   },
   "source": [
    "### 6. SibSp\n",
    "This is the number of siblings/spouses aboard the Titanic and can be considered along with \"Parch\" feature."
   ]
  },
  {
   "cell_type": "markdown",
   "metadata": {
    "papermill": {
     "duration": 0.063353,
     "end_time": "2020-12-19T20:12:46.374444",
     "exception": false,
     "start_time": "2020-12-19T20:12:46.311091",
     "status": "completed"
    },
    "tags": []
   },
   "source": [
    "### 7. Parch\n",
    "This is the number of parents/children. We can consider it along with \"SibSp\" to make a new feature, \"FamilySize\", that can be categorized into \n",
    " 4 categories comprising 1, 2, {3, 4} and >= 5 members."
   ]
  },
  {
   "cell_type": "code",
   "execution_count": 10,
   "metadata": {
    "execution": {
     "iopub.execute_input": "2020-12-19T20:12:46.511182Z",
     "iopub.status.busy": "2020-12-19T20:12:46.507809Z",
     "iopub.status.idle": "2020-12-19T20:12:46.722846Z",
     "shell.execute_reply": "2020-12-19T20:12:46.722139Z"
    },
    "papermill": {
     "duration": 0.286596,
     "end_time": "2020-12-19T20:12:46.722965",
     "exception": false,
     "start_time": "2020-12-19T20:12:46.436369",
     "status": "completed"
    },
    "tags": []
   },
   "outputs": [
    {
     "data": {
      "image/png": "[encoded data removed]",
      "text/plain": [
       "<Figure size 432x288 with 1 Axes>"
      ]
     },
     "metadata": {
      "needs_background": "light"
     },
     "output_type": "display_data"
    }
   ],
   "source": [
    "for ds in datasets:\n",
    "    # Family size is based on number of siblings/spouses and parent/children\n",
    "    family_size = ds['SibSp'] + ds['Parch'] + 1\n",
    "    \n",
    "    # Categorise\n",
    "    ds['FamilySize'] = pd.cut(\n",
    "        family_size, bins=[-np.inf, 1, 2, 4, np.inf], labels=range(4))\n",
    "    ds.loc[:, 'FamilySize'] = ds['FamilySize'].astype(int)\n",
    "\n",
    "# Plot\n",
    "sns.countplot(data=train, x='FamilySize', hue='Survived')\n",
    "plt.show()"
   ]
  },
  {
   "cell_type": "markdown",
   "metadata": {
    "papermill": {
     "duration": 0.060862,
     "end_time": "2020-12-19T20:12:46.844501",
     "exception": false,
     "start_time": "2020-12-19T20:12:46.783639",
     "status": "completed"
    },
    "tags": []
   },
   "source": [
    "### 8. Ticket\n",
    "The ticket number doesn't affect the survival."
   ]
  },
  {
   "cell_type": "markdown",
   "metadata": {
    "papermill": {
     "duration": 0.062509,
     "end_time": "2020-12-19T20:12:46.968989",
     "exception": false,
     "start_time": "2020-12-19T20:12:46.906480",
     "status": "completed"
    },
    "tags": []
   },
   "source": [
    "### 9. Fare\n",
    "To impute, we use median of training data. Then, we categorise it into 4 categories."
   ]
  },
  {
   "cell_type": "code",
   "execution_count": 11,
   "metadata": {
    "execution": {
     "iopub.execute_input": "2020-12-19T20:12:47.104807Z",
     "iopub.status.busy": "2020-12-19T20:12:47.103374Z",
     "iopub.status.idle": "2020-12-19T20:12:47.294840Z",
     "shell.execute_reply": "2020-12-19T20:12:47.294168Z"
    },
    "papermill": {
     "duration": 0.263443,
     "end_time": "2020-12-19T20:12:47.295088",
     "exception": false,
     "start_time": "2020-12-19T20:12:47.031645",
     "status": "completed"
    },
    "tags": []
   },
   "outputs": [
    {
     "data": {
      "image/png": "[encoded data removed]",
      "text/plain": [
       "<Figure size 432x288 with 1 Axes>"
      ]
     },
     "metadata": {
      "needs_background": "light"
     },
     "output_type": "display_data"
    }
   ],
   "source": [
    "median = train['Fare'].median()\n",
    "for ds in datasets:\n",
    "    #Impute\n",
    "    ds['Fare'] = ds['Fare'].fillna(median)\n",
    "    \n",
    "    # Categorise\n",
    "    ds['Fare'] = pd.qcut(ds['Fare'], q=4, labels=range(4))\n",
    "    ds.loc[:, 'Fare'] = ds['Fare'].astype(int)\n",
    "\n",
    "# Plot\n",
    "sns.countplot(data=train, x='Fare', hue='Survived')\n",
    "plt.show()"
   ]
  },
  {
   "cell_type": "markdown",
   "metadata": {
    "papermill": {
     "duration": 0.060782,
     "end_time": "2020-12-19T20:12:47.417312",
     "exception": false,
     "start_time": "2020-12-19T20:12:47.356530",
     "status": "completed"
    },
    "tags": []
   },
   "source": [
    "It's seen that the more the fare, the more the number of survived passengers."
   ]
  },
  {
   "cell_type": "markdown",
   "metadata": {
    "papermill": {
     "duration": 0.060882,
     "end_time": "2020-12-19T20:12:47.539144",
     "exception": false,
     "start_time": "2020-12-19T20:12:47.478262",
     "status": "completed"
    },
    "tags": []
   },
   "source": [
    "### 10. Cabin\n",
    "Most values of this column are NaN, meaning that most passengers didn't have cabins. We add a feature to show if a passenger had cabin or not."
   ]
  },
  {
   "cell_type": "code",
   "execution_count": 12,
   "metadata": {
    "execution": {
     "iopub.execute_input": "2020-12-19T20:12:47.675891Z",
     "iopub.status.busy": "2020-12-19T20:12:47.675045Z",
     "iopub.status.idle": "2020-12-19T20:12:47.842394Z",
     "shell.execute_reply": "2020-12-19T20:12:47.841874Z"
    },
    "papermill": {
     "duration": 0.242096,
     "end_time": "2020-12-19T20:12:47.842504",
     "exception": false,
     "start_time": "2020-12-19T20:12:47.600408",
     "status": "completed"
    },
    "tags": []
   },
   "outputs": [
    {
     "data": {
      "image/png": "[encoded data removed]",
      "text/plain": [
       "<Figure size 432x288 with 1 Axes>"
      ]
     },
     "metadata": {
      "needs_background": "light"
     },
     "output_type": "display_data"
    }
   ],
   "source": [
    "for ds in datasets:\n",
    "    ds['HasCabin'] = ds['Cabin'].notnull().astype(int)\n",
    "\n",
    "# Plot\n",
    "sns.countplot(data=train, x='HasCabin', hue='Survived')\n",
    "plt.show()"
   ]
  },
  {
   "cell_type": "markdown",
   "metadata": {
    "papermill": {
     "duration": 0.063868,
     "end_time": "2020-12-19T20:12:47.975948",
     "exception": false,
     "start_time": "2020-12-19T20:12:47.912080",
     "status": "completed"
    },
    "tags": []
   },
   "source": [
    "### 11. Embarked\n",
    "This column has missing values. We impute them by the most frequent value."
   ]
  },
  {
   "cell_type": "code",
   "execution_count": 13,
   "metadata": {
    "execution": {
     "iopub.execute_input": "2020-12-19T20:12:48.110310Z",
     "iopub.status.busy": "2020-12-19T20:12:48.109306Z",
     "iopub.status.idle": "2020-12-19T20:12:48.321575Z",
     "shell.execute_reply": "2020-12-19T20:12:48.322263Z"
    },
    "papermill": {
     "duration": 0.281522,
     "end_time": "2020-12-19T20:12:48.322438",
     "exception": false,
     "start_time": "2020-12-19T20:12:48.040916",
     "status": "completed"
    },
    "tags": []
   },
   "outputs": [
    {
     "data": {
      "image/png": "[encoded data removed]",
      "text/plain": [
       "<Figure size 432x288 with 2 Axes>"
      ]
     },
     "metadata": {
      "needs_background": "light"
     },
     "output_type": "display_data"
    }
   ],
   "source": [
    "# Count of values\n",
    "fig, ax = plt.subplots(1, 2, sharey=True)\n",
    "\n",
    "sns.countplot(data=train, x='Embarked', ax=ax[0])\n",
    "ax[0].set_title('Train')\n",
    "\n",
    "sns.countplot(data=test, x='Embarked', ax=ax[1], order=['S', 'C', 'Q'])\n",
    "ax[1].set_title('Test')\n",
    "plt.show()"
   ]
  },
  {
   "cell_type": "markdown",
   "metadata": {
    "papermill": {
     "duration": 0.095253,
     "end_time": "2020-12-19T20:12:48.515060",
     "exception": false,
     "start_time": "2020-12-19T20:12:48.419807",
     "status": "completed"
    },
    "tags": []
   },
   "source": [
    "We see that \"S\" is the most frequent port of embarkation."
   ]
  },
  {
   "cell_type": "code",
   "execution_count": 14,
   "metadata": {
    "execution": {
     "iopub.execute_input": "2020-12-19T20:12:48.711083Z",
     "iopub.status.busy": "2020-12-19T20:12:48.710006Z",
     "iopub.status.idle": "2020-12-19T20:12:48.907315Z",
     "shell.execute_reply": "2020-12-19T20:12:48.906530Z"
    },
    "papermill": {
     "duration": 0.297394,
     "end_time": "2020-12-19T20:12:48.907429",
     "exception": false,
     "start_time": "2020-12-19T20:12:48.610035",
     "status": "completed"
    },
    "tags": []
   },
   "outputs": [
    {
     "data": {
      "image/png": "[encoded data removed]",
      "text/plain": [
       "<Figure size 432x288 with 1 Axes>"
      ]
     },
     "metadata": {
      "needs_background": "light"
     },
     "output_type": "display_data"
    }
   ],
   "source": [
    "# Impute\n",
    "for ds in datasets:\n",
    "    ds['Embarked'] = ds['Embarked'].fillna('S')\n",
    "\n",
    "# Plot\n",
    "sns.countplot(data=train, x='Embarked', hue='Survived')\n",
    "plt.show()"
   ]
  },
  {
   "cell_type": "markdown",
   "metadata": {
    "papermill": {
     "duration": 0.065747,
     "end_time": "2020-12-19T20:12:49.041081",
     "exception": false,
     "start_time": "2020-12-19T20:12:48.975334",
     "status": "completed"
    },
    "tags": []
   },
   "source": [
    "# Data encoding\n",
    "Looking into the datasets, there are categorical features, that need to be converted to numberical ones in order for modelling. This is called \"encoding\"."
   ]
  },
  {
   "cell_type": "code",
   "execution_count": 15,
   "metadata": {
    "execution": {
     "iopub.execute_input": "2020-12-19T20:12:49.183172Z",
     "iopub.status.busy": "2020-12-19T20:12:49.177186Z",
     "iopub.status.idle": "2020-12-19T20:12:49.200255Z",
     "shell.execute_reply": "2020-12-19T20:12:49.200952Z"
    },
    "papermill": {
     "duration": 0.095768,
     "end_time": "2020-12-19T20:12:49.201177",
     "exception": false,
     "start_time": "2020-12-19T20:12:49.105409",
     "status": "completed"
    },
    "tags": []
   },
   "outputs": [
    {
     "data": {
      "text/html": [
       "<div>\n",
       "<style scoped>\n",
       "    .dataframe tbody tr th:only-of-type {\n",
       "        vertical-align: middle;\n",
       "    }\n",
       "\n",
       "    .dataframe tbody tr th {\n",
       "        vertical-align: top;\n",
       "    }\n",
       "\n",
       "    .dataframe thead th {\n",
       "        text-align: right;\n",
       "    }\n",
       "</style>\n",
       "<table border=\"1\" class=\"dataframe\">\n",
       "  <thead>\n",
       "    <tr style=\"text-align: right;\">\n",
       "      <th></th>\n",
       "      <th>PassengerId</th>\n",
       "      <th>Survived</th>\n",
       "      <th>Pclass</th>\n",
       "      <th>Name</th>\n",
       "      <th>Sex</th>\n",
       "      <th>Age</th>\n",
       "      <th>SibSp</th>\n",
       "      <th>Parch</th>\n",
       "      <th>Ticket</th>\n",
       "      <th>Fare</th>\n",
       "      <th>Cabin</th>\n",
       "      <th>Embarked</th>\n",
       "      <th>Title</th>\n",
       "      <th>FamilySize</th>\n",
       "      <th>HasCabin</th>\n",
       "    </tr>\n",
       "  </thead>\n",
       "  <tbody>\n",
       "    <tr>\n",
       "      <th>0</th>\n",
       "      <td>1</td>\n",
       "      <td>0</td>\n",
       "      <td>3</td>\n",
       "      <td>Braund, Mr. Owen Harris</td>\n",
       "      <td>male</td>\n",
       "      <td>1</td>\n",
       "      <td>1</td>\n",
       "      <td>0</td>\n",
       "      <td>A/5 21171</td>\n",
       "      <td>0</td>\n",
       "      <td>NaN</td>\n",
       "      <td>S</td>\n",
       "      <td>Mr</td>\n",
       "      <td>1</td>\n",
       "      <td>0</td>\n",
       "    </tr>\n",
       "    <tr>\n",
       "      <th>1</th>\n",
       "      <td>2</td>\n",
       "      <td>1</td>\n",
       "      <td>1</td>\n",
       "      <td>Cumings, Mrs. John Bradley (Florence Briggs Th...</td>\n",
       "      <td>female</td>\n",
       "      <td>2</td>\n",
       "      <td>1</td>\n",
       "      <td>0</td>\n",
       "      <td>PC 17599</td>\n",
       "      <td>3</td>\n",
       "      <td>C85</td>\n",
       "      <td>C</td>\n",
       "      <td>Mrs</td>\n",
       "      <td>1</td>\n",
       "      <td>1</td>\n",
       "    </tr>\n",
       "    <tr>\n",
       "      <th>2</th>\n",
       "      <td>3</td>\n",
       "      <td>1</td>\n",
       "      <td>3</td>\n",
       "      <td>Heikkinen, Miss. Laina</td>\n",
       "      <td>female</td>\n",
       "      <td>2</td>\n",
       "      <td>0</td>\n",
       "      <td>0</td>\n",
       "      <td>STON/O2. 3101282</td>\n",
       "      <td>1</td>\n",
       "      <td>NaN</td>\n",
       "      <td>S</td>\n",
       "      <td>Miss</td>\n",
       "      <td>0</td>\n",
       "      <td>0</td>\n",
       "    </tr>\n",
       "    <tr>\n",
       "      <th>3</th>\n",
       "      <td>4</td>\n",
       "      <td>1</td>\n",
       "      <td>1</td>\n",
       "      <td>Futrelle, Mrs. Jacques Heath (Lily May Peel)</td>\n",
       "      <td>female</td>\n",
       "      <td>2</td>\n",
       "      <td>1</td>\n",
       "      <td>0</td>\n",
       "      <td>113803</td>\n",
       "      <td>3</td>\n",
       "      <td>C123</td>\n",
       "      <td>S</td>\n",
       "      <td>Mrs</td>\n",
       "      <td>1</td>\n",
       "      <td>1</td>\n",
       "    </tr>\n",
       "    <tr>\n",
       "      <th>4</th>\n",
       "      <td>5</td>\n",
       "      <td>0</td>\n",
       "      <td>3</td>\n",
       "      <td>Allen, Mr. William Henry</td>\n",
       "      <td>male</td>\n",
       "      <td>2</td>\n",
       "      <td>0</td>\n",
       "      <td>0</td>\n",
       "      <td>373450</td>\n",
       "      <td>1</td>\n",
       "      <td>NaN</td>\n",
       "      <td>S</td>\n",
       "      <td>Mr</td>\n",
       "      <td>0</td>\n",
       "      <td>0</td>\n",
       "    </tr>\n",
       "  </tbody>\n",
       "</table>\n",
       "</div>"
      ],
      "text/plain": [
       "   PassengerId  Survived  Pclass  \\\n",
       "0            1         0       3   \n",
       "1            2         1       1   \n",
       "2            3         1       3   \n",
       "3            4         1       1   \n",
       "4            5         0       3   \n",
       "\n",
       "                                                Name     Sex  Age  SibSp  \\\n",
       "0                            Braund, Mr. Owen Harris    male    1      1   \n",
       "1  Cumings, Mrs. John Bradley (Florence Briggs Th...  female    2      1   \n",
       "2                             Heikkinen, Miss. Laina  female    2      0   \n",
       "3       Futrelle, Mrs. Jacques Heath (Lily May Peel)  female    2      1   \n",
       "4                           Allen, Mr. William Henry    male    2      0   \n",
       "\n",
       "   Parch            Ticket  Fare Cabin Embarked Title  FamilySize  HasCabin  \n",
       "0      0         A/5 21171     0   NaN        S    Mr           1         0  \n",
       "1      0          PC 17599     3   C85        C   Mrs           1         1  \n",
       "2      0  STON/O2. 3101282     1   NaN        S  Miss           0         0  \n",
       "3      0            113803     3  C123        S   Mrs           1         1  \n",
       "4      0            373450     1   NaN        S    Mr           0         0  "
      ]
     },
     "execution_count": 15,
     "metadata": {},
     "output_type": "execute_result"
    }
   ],
   "source": [
    "train.head()"
   ]
  },
  {
   "cell_type": "code",
   "execution_count": 16,
   "metadata": {
    "execution": {
     "iopub.execute_input": "2020-12-19T20:12:49.480293Z",
     "iopub.status.busy": "2020-12-19T20:12:49.479424Z",
     "iopub.status.idle": "2020-12-19T20:12:49.482656Z",
     "shell.execute_reply": "2020-12-19T20:12:49.483458Z"
    },
    "papermill": {
     "duration": 0.107733,
     "end_time": "2020-12-19T20:12:49.483622",
     "exception": false,
     "start_time": "2020-12-19T20:12:49.375889",
     "status": "completed"
    },
    "tags": []
   },
   "outputs": [
    {
     "data": {
      "text/plain": [
       "(891, 15)"
      ]
     },
     "execution_count": 16,
     "metadata": {},
     "output_type": "execute_result"
    }
   ],
   "source": [
    "train.shape"
   ]
  },
  {
   "cell_type": "markdown",
   "metadata": {
    "papermill": {
     "duration": 0.09599,
     "end_time": "2020-12-19T20:12:49.675946",
     "exception": false,
     "start_time": "2020-12-19T20:12:49.579956",
     "status": "completed"
    },
    "tags": []
   },
   "source": [
    "Here, we encode features based on frequency of occurance of their values, i.e. the most frequent value in each feature is encoded to 0, the second most frequent to 1 and so on."
   ]
  },
  {
   "cell_type": "code",
   "execution_count": 17,
   "metadata": {
    "execution": {
     "iopub.execute_input": "2020-12-19T20:12:49.899792Z",
     "iopub.status.busy": "2020-12-19T20:12:49.898436Z",
     "iopub.status.idle": "2020-12-19T20:12:49.910105Z",
     "shell.execute_reply": "2020-12-19T20:12:49.909333Z"
    },
    "papermill": {
     "duration": 0.137607,
     "end_time": "2020-12-19T20:12:49.910233",
     "exception": false,
     "start_time": "2020-12-19T20:12:49.772626",
     "status": "completed"
    },
    "tags": []
   },
   "outputs": [
    {
     "data": {
      "text/html": [
       "<div>\n",
       "<style scoped>\n",
       "    .dataframe tbody tr th:only-of-type {\n",
       "        vertical-align: middle;\n",
       "    }\n",
       "\n",
       "    .dataframe tbody tr th {\n",
       "        vertical-align: top;\n",
       "    }\n",
       "\n",
       "    .dataframe thead th {\n",
       "        text-align: right;\n",
       "    }\n",
       "</style>\n",
       "<table border=\"1\" class=\"dataframe\">\n",
       "  <thead>\n",
       "    <tr style=\"text-align: right;\">\n",
       "      <th></th>\n",
       "      <th>PassengerId</th>\n",
       "      <th>Survived</th>\n",
       "      <th>Pclass</th>\n",
       "      <th>Name</th>\n",
       "      <th>Sex</th>\n",
       "      <th>Age</th>\n",
       "      <th>SibSp</th>\n",
       "      <th>Parch</th>\n",
       "      <th>Ticket</th>\n",
       "      <th>Fare</th>\n",
       "      <th>Cabin</th>\n",
       "      <th>Embarked</th>\n",
       "      <th>Title</th>\n",
       "      <th>FamilySize</th>\n",
       "      <th>HasCabin</th>\n",
       "    </tr>\n",
       "  </thead>\n",
       "  <tbody>\n",
       "    <tr>\n",
       "      <th>0</th>\n",
       "      <td>1</td>\n",
       "      <td>0</td>\n",
       "      <td>3</td>\n",
       "      <td>Braund, Mr. Owen Harris</td>\n",
       "      <td>0</td>\n",
       "      <td>1</td>\n",
       "      <td>1</td>\n",
       "      <td>0</td>\n",
       "      <td>A/5 21171</td>\n",
       "      <td>0</td>\n",
       "      <td>NaN</td>\n",
       "      <td>0</td>\n",
       "      <td>0</td>\n",
       "      <td>1</td>\n",
       "      <td>0</td>\n",
       "    </tr>\n",
       "    <tr>\n",
       "      <th>1</th>\n",
       "      <td>2</td>\n",
       "      <td>1</td>\n",
       "      <td>1</td>\n",
       "      <td>Cumings, Mrs. John Bradley (Florence Briggs Th...</td>\n",
       "      <td>1</td>\n",
       "      <td>2</td>\n",
       "      <td>1</td>\n",
       "      <td>0</td>\n",
       "      <td>PC 17599</td>\n",
       "      <td>3</td>\n",
       "      <td>C85</td>\n",
       "      <td>1</td>\n",
       "      <td>2</td>\n",
       "      <td>1</td>\n",
       "      <td>1</td>\n",
       "    </tr>\n",
       "    <tr>\n",
       "      <th>2</th>\n",
       "      <td>3</td>\n",
       "      <td>1</td>\n",
       "      <td>3</td>\n",
       "      <td>Heikkinen, Miss. Laina</td>\n",
       "      <td>1</td>\n",
       "      <td>2</td>\n",
       "      <td>0</td>\n",
       "      <td>0</td>\n",
       "      <td>STON/O2. 3101282</td>\n",
       "      <td>1</td>\n",
       "      <td>NaN</td>\n",
       "      <td>0</td>\n",
       "      <td>1</td>\n",
       "      <td>0</td>\n",
       "      <td>0</td>\n",
       "    </tr>\n",
       "    <tr>\n",
       "      <th>3</th>\n",
       "      <td>4</td>\n",
       "      <td>1</td>\n",
       "      <td>1</td>\n",
       "      <td>Futrelle, Mrs. Jacques Heath (Lily May Peel)</td>\n",
       "      <td>1</td>\n",
       "      <td>2</td>\n",
       "      <td>1</td>\n",
       "      <td>0</td>\n",
       "      <td>113803</td>\n",
       "      <td>3</td>\n",
       "      <td>C123</td>\n",
       "      <td>0</td>\n",
       "      <td>2</td>\n",
       "      <td>1</td>\n",
       "      <td>1</td>\n",
       "    </tr>\n",
       "    <tr>\n",
       "      <th>4</th>\n",
       "      <td>5</td>\n",
       "      <td>0</td>\n",
       "      <td>3</td>\n",
       "      <td>Allen, Mr. William Henry</td>\n",
       "      <td>0</td>\n",
       "      <td>2</td>\n",
       "      <td>0</td>\n",
       "      <td>0</td>\n",
       "      <td>373450</td>\n",
       "      <td>1</td>\n",
       "      <td>NaN</td>\n",
       "      <td>0</td>\n",
       "      <td>0</td>\n",
       "      <td>0</td>\n",
       "      <td>0</td>\n",
       "    </tr>\n",
       "  </tbody>\n",
       "</table>\n",
       "</div>"
      ],
      "text/plain": [
       "   PassengerId  Survived  Pclass  \\\n",
       "0            1         0       3   \n",
       "1            2         1       1   \n",
       "2            3         1       3   \n",
       "3            4         1       1   \n",
       "4            5         0       3   \n",
       "\n",
       "                                                Name  Sex  Age  SibSp  Parch  \\\n",
       "0                            Braund, Mr. Owen Harris    0    1      1      0   \n",
       "1  Cumings, Mrs. John Bradley (Florence Briggs Th...    1    2      1      0   \n",
       "2                             Heikkinen, Miss. Laina    1    2      0      0   \n",
       "3       Futrelle, Mrs. Jacques Heath (Lily May Peel)    1    2      1      0   \n",
       "4                           Allen, Mr. William Henry    0    2      0      0   \n",
       "\n",
       "             Ticket  Fare Cabin  Embarked  Title  FamilySize  HasCabin  \n",
       "0         A/5 21171     0   NaN         0      0           1         0  \n",
       "1          PC 17599     3   C85         1      2           1         1  \n",
       "2  STON/O2. 3101282     1   NaN         0      1           0         0  \n",
       "3            113803     3  C123         0      2           1         1  \n",
       "4            373450     1   NaN         0      0           0         0  "
      ]
     },
     "execution_count": 17,
     "metadata": {},
     "output_type": "execute_result"
    }
   ],
   "source": [
    "# Encoding\n",
    "def encode_freq_sorted(feature):\n",
    "    sorted_indices = feature.value_counts().index\n",
    "    sorted_dict = dict(zip(sorted_indices, range(len(sorted_indices))))\n",
    "    return feature.map(sorted_dict).astype(int)\n",
    "    \n",
    "for ds in datasets:\n",
    "    ds['Sex'] = encode_freq_sorted(ds['Sex']) # Sex\n",
    "    ds['Embarked'] = encode_freq_sorted(ds['Embarked']) # Embarked\n",
    "    ds['Title'] = encode_freq_sorted(ds['Title']) # Title\n",
    "\n",
    "train.head()"
   ]
  },
  {
   "cell_type": "markdown",
   "metadata": {
    "papermill": {
     "duration": 0.096699,
     "end_time": "2020-12-19T20:12:50.105514",
     "exception": false,
     "start_time": "2020-12-19T20:12:50.008815",
     "status": "completed"
    },
    "tags": []
   },
   "source": [
    "Note that if we didn't care about the frequency of values, we could use \"sklearn.preprocessing.LabelEncoder\". At the moment, that library doesn't support arbitrary ordering of values of the features."
   ]
  },
  {
   "cell_type": "markdown",
   "metadata": {
    "papermill": {
     "duration": 0.097051,
     "end_time": "2020-12-19T20:12:50.299333",
     "exception": false,
     "start_time": "2020-12-19T20:12:50.202282",
     "status": "completed"
    },
    "tags": []
   },
   "source": [
    "# Feature selection\n",
    "At this step, we drop the features that wouldn't affect (much) the target."
   ]
  },
  {
   "cell_type": "code",
   "execution_count": 18,
   "metadata": {
    "execution": {
     "iopub.execute_input": "2020-12-19T20:12:50.500792Z",
     "iopub.status.busy": "2020-12-19T20:12:50.498849Z",
     "iopub.status.idle": "2020-12-19T20:12:50.503335Z",
     "shell.execute_reply": "2020-12-19T20:12:50.503841Z"
    },
    "papermill": {
     "duration": 0.106448,
     "end_time": "2020-12-19T20:12:50.503999",
     "exception": false,
     "start_time": "2020-12-19T20:12:50.397551",
     "status": "completed"
    },
    "tags": []
   },
   "outputs": [],
   "source": [
    "drop_features = ['Name', 'SibSp', 'Parch', 'Ticket', 'Cabin']"
   ]
  },
  {
   "cell_type": "markdown",
   "metadata": {
    "papermill": {
     "duration": 0.065837,
     "end_time": "2020-12-19T20:12:50.636123",
     "exception": false,
     "start_time": "2020-12-19T20:12:50.570286",
     "status": "completed"
    },
    "tags": []
   },
   "source": [
    "This is because we used \n",
    "* \"Name\" -> \"Title\", \n",
    "* \"SibSp\" and \"Parch\" -> \"FamilySize\", \n",
    "* \"Ticket\" -> drop,\n",
    "* \"Cabin\" -> \"HasCabin\".\n",
    "\n",
    "To explore the data, we can visualize the correlation between features. The correlation coefficient shows the linear relation between features. Strong correlation between two features, which is shown by values close to +1 or -1, means there is redundancy in data, therefore one of the features can be dropped."
   ]
  },
  {
   "cell_type": "code",
   "execution_count": 19,
   "metadata": {
    "execution": {
     "iopub.execute_input": "2020-12-19T20:12:50.771925Z",
     "iopub.status.busy": "2020-12-19T20:12:50.771294Z",
     "iopub.status.idle": "2020-12-19T20:12:51.506096Z",
     "shell.execute_reply": "2020-12-19T20:12:51.505483Z"
    },
    "papermill": {
     "duration": 0.803935,
     "end_time": "2020-12-19T20:12:51.506231",
     "exception": false,
     "start_time": "2020-12-19T20:12:50.702296",
     "status": "completed"
    },
    "tags": []
   },
   "outputs": [
    {
     "data": {
      "image/png": "[encoded data removed]",
      "text/plain": [
       "<Figure size 792x792 with 2 Axes>"
      ]
     },
     "metadata": {
      "needs_background": "light"
     },
     "output_type": "display_data"
    }
   ],
   "source": [
    "correlation = train.drop(columns=drop_features).corr()\n",
    "\n",
    "plt.figure(figsize=(11, 11))\n",
    "sns.heatmap(correlation, annot=True)\n",
    "plt.show()"
   ]
  },
  {
   "cell_type": "markdown",
   "metadata": {
    "papermill": {
     "duration": 0.068352,
     "end_time": "2020-12-19T20:12:51.643713",
     "exception": false,
     "start_time": "2020-12-19T20:12:51.575361",
     "status": "completed"
    },
    "tags": []
   },
   "source": [
    "As can be seen, there is a (rather) strong correlation between \"HasCabin\" and \"Pclass\", because the values are close to -1. We drop one of them to remove redundancy.\n",
    "\n",
    "The values of \"HasCabin\" are closer to 0 for different features, which means it is less correlated to other features rather than \"Pclass\"; so, we drop \"Pclass\"."
   ]
  },
  {
   "cell_type": "code",
   "execution_count": 20,
   "metadata": {
    "execution": {
     "iopub.execute_input": "2020-12-19T20:12:51.804490Z",
     "iopub.status.busy": "2020-12-19T20:12:51.803609Z",
     "iopub.status.idle": "2020-12-19T20:12:51.806908Z",
     "shell.execute_reply": "2020-12-19T20:12:51.807566Z"
    },
    "papermill": {
     "duration": 0.092806,
     "end_time": "2020-12-19T20:12:51.807742",
     "exception": false,
     "start_time": "2020-12-19T20:12:51.714936",
     "status": "completed"
    },
    "tags": []
   },
   "outputs": [
    {
     "data": {
      "text/html": [
       "<div>\n",
       "<style scoped>\n",
       "    .dataframe tbody tr th:only-of-type {\n",
       "        vertical-align: middle;\n",
       "    }\n",
       "\n",
       "    .dataframe tbody tr th {\n",
       "        vertical-align: top;\n",
       "    }\n",
       "\n",
       "    .dataframe thead th {\n",
       "        text-align: right;\n",
       "    }\n",
       "</style>\n",
       "<table border=\"1\" class=\"dataframe\">\n",
       "  <thead>\n",
       "    <tr style=\"text-align: right;\">\n",
       "      <th></th>\n",
       "      <th>Sex</th>\n",
       "      <th>Age</th>\n",
       "      <th>Fare</th>\n",
       "      <th>Embarked</th>\n",
       "      <th>Title</th>\n",
       "      <th>FamilySize</th>\n",
       "      <th>HasCabin</th>\n",
       "    </tr>\n",
       "  </thead>\n",
       "  <tbody>\n",
       "    <tr>\n",
       "      <th>0</th>\n",
       "      <td>0</td>\n",
       "      <td>1</td>\n",
       "      <td>0</td>\n",
       "      <td>0</td>\n",
       "      <td>0</td>\n",
       "      <td>1</td>\n",
       "      <td>0</td>\n",
       "    </tr>\n",
       "    <tr>\n",
       "      <th>1</th>\n",
       "      <td>1</td>\n",
       "      <td>2</td>\n",
       "      <td>3</td>\n",
       "      <td>1</td>\n",
       "      <td>2</td>\n",
       "      <td>1</td>\n",
       "      <td>1</td>\n",
       "    </tr>\n",
       "    <tr>\n",
       "      <th>2</th>\n",
       "      <td>1</td>\n",
       "      <td>2</td>\n",
       "      <td>1</td>\n",
       "      <td>0</td>\n",
       "      <td>1</td>\n",
       "      <td>0</td>\n",
       "      <td>0</td>\n",
       "    </tr>\n",
       "    <tr>\n",
       "      <th>3</th>\n",
       "      <td>1</td>\n",
       "      <td>2</td>\n",
       "      <td>3</td>\n",
       "      <td>0</td>\n",
       "      <td>2</td>\n",
       "      <td>1</td>\n",
       "      <td>1</td>\n",
       "    </tr>\n",
       "    <tr>\n",
       "      <th>4</th>\n",
       "      <td>0</td>\n",
       "      <td>2</td>\n",
       "      <td>1</td>\n",
       "      <td>0</td>\n",
       "      <td>0</td>\n",
       "      <td>0</td>\n",
       "      <td>0</td>\n",
       "    </tr>\n",
       "  </tbody>\n",
       "</table>\n",
       "</div>"
      ],
      "text/plain": [
       "   Sex  Age  Fare  Embarked  Title  FamilySize  HasCabin\n",
       "0    0    1     0         0      0           1         0\n",
       "1    1    2     3         1      2           1         1\n",
       "2    1    2     1         0      1           0         0\n",
       "3    1    2     3         0      2           1         1\n",
       "4    0    2     1         0      0           0         0"
      ]
     },
     "execution_count": 20,
     "metadata": {},
     "output_type": "execute_result"
    }
   ],
   "source": [
    "drop_features.extend(['Pclass'])\n",
    "\n",
    "train = train.drop(columns=drop_features)\n",
    "test = test.drop(columns=drop_features)\n",
    "\n",
    "X = train.drop(columns=['PassengerId', 'Survived'])\n",
    "y = train['Survived']\n",
    "\n",
    "X.head()"
   ]
  },
  {
   "cell_type": "markdown",
   "metadata": {
    "papermill": {
     "duration": 0.07199,
     "end_time": "2020-12-19T20:12:51.961236",
     "exception": false,
     "start_time": "2020-12-19T20:12:51.889246",
     "status": "completed"
    },
    "tags": []
   },
   "source": [
    "Now that the data cleaning, feature engineering, data encoding and feature selection is done, the dataset is up and ready to be fed to machine learning models.\n",
    "\n",
    "# Classification\n",
    "Here we apply different machine learning techniques to model the training data and later predicting who survived the shipwreck.\n",
    "\n",
    "We don't have access to the actual survived values for the test data, since this the competition's rule, until competitors don't overfit the test data. Therefore, we split the training data into training and validation, and use validation data to evaluate our model. "
   ]
  },
  {
   "cell_type": "code",
   "execution_count": 21,
   "metadata": {
    "execution": {
     "iopub.execute_input": "2020-12-19T20:12:52.109776Z",
     "iopub.status.busy": "2020-12-19T20:12:52.108890Z",
     "iopub.status.idle": "2020-12-19T20:12:52.117218Z",
     "shell.execute_reply": "2020-12-19T20:12:52.116536Z"
    },
    "papermill": {
     "duration": 0.083793,
     "end_time": "2020-12-19T20:12:52.117331",
     "exception": false,
     "start_time": "2020-12-19T20:12:52.033538",
     "status": "completed"
    },
    "tags": []
   },
   "outputs": [],
   "source": [
    "# Split training and validation data\n",
    "from sklearn.model_selection import train_test_split\n",
    "\n",
    "X_train, X_val, y_train, y_val = train_test_split(X, y, train_size=0.75, \n",
    "                                                  random_state=SEED)\n",
    "X_test = test.drop(columns=['PassengerId']) # For consistency in naming variables"
   ]
  },
  {
   "cell_type": "markdown",
   "metadata": {
    "papermill": {
     "duration": 0.068872,
     "end_time": "2020-12-19T20:12:52.255385",
     "exception": false,
     "start_time": "2020-12-19T20:12:52.186513",
     "status": "completed"
    },
    "tags": []
   },
   "source": [
    "Now, we try different models, for which we use randomized search to optimize hyper-parameters based on prediction accuracy. The randomized search randomly samples from a grid of paramaters and performs K-fold cross validation with each combination of values."
   ]
  },
  {
   "cell_type": "code",
   "execution_count": 22,
   "metadata": {
    "execution": {
     "iopub.execute_input": "2020-12-19T20:12:52.378693Z",
     "iopub.status.busy": "2020-12-19T20:12:52.377567Z",
     "iopub.status.idle": "2020-12-19T20:12:52.383558Z",
     "shell.execute_reply": "2020-12-19T20:12:52.382694Z"
    },
    "papermill": {
     "duration": 0.062884,
     "end_time": "2020-12-19T20:12:52.383697",
     "exception": false,
     "start_time": "2020-12-19T20:12:52.320813",
     "status": "completed"
    },
    "tags": []
   },
   "outputs": [],
   "source": [
    "# Cross-validator\n",
    "from sklearn.model_selection import StratifiedKFold\n",
    "\n",
    "cross_valid = StratifiedKFold(n_splits=3, shuffle=True, random_state=SEED)\n",
    "\n",
    "# Define randomized search as a function for later use\n",
    "def random_search(X, y, estimator, params, score=\"accuracy\", cv=cross_valid, \n",
    "                  n_iter=100, random_state=SEED, n_jobs=-1):\n",
    "    \"\"\"\n",
    "    Randomized search of parameters, using \"cv\" fold cross validation, search \n",
    "    across \"n_iter\" different combinations, and use all available cores\n",
    "    \"\"\"\n",
    "    print(\"# Tuning hyper-parameters for {} by randomized search\".format(score))\n",
    "    \n",
    "    classifier = RandomizedSearchCV(estimator=estimator, param_distributions=params, \n",
    "                             scoring=score, cv=cv, n_iter=n_iter, n_jobs=n_jobs, \n",
    "                             random_state=random_state)\n",
    "    classifier.fit(X, y)\n",
    "    \n",
    "    print(\"Best parameters by random search:\\n\", classifier.best_params_)\n",
    "    return classifier"
   ]
  },
  {
   "cell_type": "markdown",
   "metadata": {
    "papermill": {
     "duration": 0.102091,
     "end_time": "2020-12-19T20:12:52.588731",
     "exception": false,
     "start_time": "2020-12-19T20:12:52.486640",
     "status": "completed"
    },
    "tags": []
   },
   "source": [
    "## Random forest\n",
    "Random forest is an ensemble learning method for classification that operate by constructing a multitude of decision trees at training time and outputting the class that is the mode of the classes or mean/average prediction of the individual trees [[link](https://en.wikipedia.org/wiki/Random_forest#:~:text=Random%20forests%20or%20random%20decision,average%20prediction%20(regression)%20of%20the)].\n",
    "\n",
    "First, we define the model in the simplest form to see what the default parameters are.\n",
    "\n",
    "The material is inspired by [Hyperparameter Tuning the Random Forest in Python](http://towardsdatascience.com/hyperparameter-tuning-the-random-forest-in-python-using-scikit-learn-28d2aa77dd74)."
   ]
  },
  {
   "cell_type": "code",
   "execution_count": 23,
   "metadata": {
    "execution": {
     "iopub.execute_input": "2020-12-19T20:12:52.798924Z",
     "iopub.status.busy": "2020-12-19T20:12:52.798230Z",
     "iopub.status.idle": "2020-12-19T20:12:53.030020Z",
     "shell.execute_reply": "2020-12-19T20:12:53.030577Z"
    },
    "papermill": {
     "duration": 0.339387,
     "end_time": "2020-12-19T20:12:53.030742",
     "exception": false,
     "start_time": "2020-12-19T20:12:52.691355",
     "status": "completed"
    },
    "tags": []
   },
   "outputs": [
    {
     "data": {
      "text/plain": [
       "{'bootstrap': True,\n",
       " 'ccp_alpha': 0.0,\n",
       " 'class_weight': None,\n",
       " 'criterion': 'gini',\n",
       " 'max_depth': None,\n",
       " 'max_features': 'auto',\n",
       " 'max_leaf_nodes': None,\n",
       " 'max_samples': None,\n",
       " 'min_impurity_decrease': 0.0,\n",
       " 'min_impurity_split': None,\n",
       " 'min_samples_leaf': 1,\n",
       " 'min_samples_split': 2,\n",
       " 'min_weight_fraction_leaf': 0.0,\n",
       " 'n_estimators': 100,\n",
       " 'n_jobs': None,\n",
       " 'oob_score': False,\n",
       " 'random_state': 7,\n",
       " 'verbose': 0,\n",
       " 'warm_start': False}"
      ]
     },
     "execution_count": 23,
     "metadata": {},
     "output_type": "execute_result"
    }
   ],
   "source": [
    "from sklearn.ensemble import RandomForestClassifier\n",
    "\n",
    "# By setting random_state, we get the same result every time we run the command\n",
    "random_forest = RandomForestClassifier(random_state=SEED)\n",
    "\n",
    "random_forest.get_params()"
   ]
  },
  {
   "cell_type": "code",
   "execution_count": 24,
   "metadata": {
    "execution": {
     "iopub.execute_input": "2020-12-19T20:12:53.179779Z",
     "iopub.status.busy": "2020-12-19T20:12:53.179029Z",
     "iopub.status.idle": "2020-12-19T20:16:50.241939Z",
     "shell.execute_reply": "2020-12-19T20:16:50.242473Z"
    },
    "papermill": {
     "duration": 237.143089,
     "end_time": "2020-12-19T20:16:50.242610",
     "exception": false,
     "start_time": "2020-12-19T20:12:53.099521",
     "status": "completed"
    },
    "tags": []
   },
   "outputs": [
    {
     "name": "stdout",
     "output_type": "stream",
     "text": [
      "# Tuning hyper-parameters for accuracy by randomized search\n",
      "Best parameters by random search:\n",
      " {'n_estimators': 200, 'min_samples_split': 2, 'min_samples_leaf': 4, 'max_features': 'auto', 'max_depth': 30, 'bootstrap': True}\n"
     ]
    }
   ],
   "source": [
    "# Hyper-parameter tuning\n",
    "# Note: running this cell takes a few minutes\n",
    "\n",
    "# Create the parameter grid\n",
    "# The keys are ordered alphabetically\n",
    "params = {\n",
    "    # Method of selecting samples for training each tree\n",
    "    'bootstrap': [True, False],\n",
    "    # Maximum number of levels in tree\n",
    "    'max_depth': [int(x) for x in np.linspace(10, 110, num = 11)],\n",
    "    # Number of features to consider at every split\n",
    "    'max_features': ['auto', 'sqrt'],\n",
    "    # Minimum number of samples required at each leaf node\n",
    "    'min_samples_leaf': [1, 2, 4],\n",
    "    # Minimum number of samples required to split a node\n",
    "    'min_samples_split': [2, 5, 10],\n",
    "    # Number of trees in random forest\n",
    "    'n_estimators': [int(x) for x in np.linspace(200, 2000, num = 10)]\n",
    "}\n",
    "\n",
    "# Apply randomized search cross validation\n",
    "random_forest_tuned = random_search(\n",
    "    X_train, y_train, estimator=random_forest, params=params)"
   ]
  },
  {
   "cell_type": "markdown",
   "metadata": {
    "papermill": {
     "duration": 0.072023,
     "end_time": "2020-12-19T20:16:50.385048",
     "exception": false,
     "start_time": "2020-12-19T20:16:50.313025",
     "status": "completed"
    },
    "tags": []
   },
   "source": [
    "### Learning curve\n"
   ]
  },
  {
   "cell_type": "code",
   "execution_count": 25,
   "metadata": {
    "execution": {
     "iopub.execute_input": "2020-12-19T20:16:50.543333Z",
     "iopub.status.busy": "2020-12-19T20:16:50.542606Z",
     "iopub.status.idle": "2020-12-19T20:16:50.546405Z",
     "shell.execute_reply": "2020-12-19T20:16:50.547036Z"
    },
    "papermill": {
     "duration": 0.089647,
     "end_time": "2020-12-19T20:16:50.547181",
     "exception": false,
     "start_time": "2020-12-19T20:16:50.457534",
     "status": "completed"
    },
    "tags": []
   },
   "outputs": [],
   "source": [
    "# Define a function to plot learning curve for later use\n",
    "from sklearn.model_selection import learning_curve\n",
    "\n",
    "def plot_learning_curve(estimator, X, y, ylim=None, cv=None, n_jobs=-1,\n",
    "                        train_sizes=np.linspace(.1, 1.0, 5)):\n",
    "    \"\"\"\n",
    "    Plot the test and training learning curves.\n",
    "    \"\"\"\n",
    "    train_sizes, train_scores, test_scores, fit_times, _ = \\\n",
    "        learning_curve(estimator, X, y, scoring='accuracy', cv=cv, n_jobs=n_jobs, \n",
    "                       train_sizes=train_sizes, return_times=True)\n",
    "    \n",
    "    # Plot learning curve\n",
    "    fig, ax = plt.subplots()\n",
    "    \n",
    "    train_scores_mean = np.mean(train_scores, axis=1)\n",
    "    train_scores_std = np.std(train_scores, axis=1)\n",
    "    test_scores_mean = np.mean(test_scores, axis=1)\n",
    "    test_scores_std = np.std(test_scores, axis=1)\n",
    "    \n",
    "    plt.fill_between(train_sizes, train_scores_mean - train_scores_std,\n",
    "                     train_scores_mean + train_scores_std, alpha=0.1, color=\"r\")\n",
    "    plt.fill_between(train_sizes, test_scores_mean - test_scores_std,\n",
    "                     test_scores_mean + test_scores_std, alpha=0.1, color=\"g\")\n",
    "    plt.plot(train_sizes, train_scores_mean, 'o-', color=\"r\", \n",
    "             label=\"Training score\")\n",
    "    plt.plot(train_sizes, test_scores_mean, 'o-', color=\"g\",\n",
    "             label=\"Cross-validation score\")\n",
    "\n",
    "    plt.grid()\n",
    "    plt.legend(loc=\"best\")\n",
    "    if ylim is not None:\n",
    "        plt.ylim(*ylim)\n",
    "    ax.set(title=\"Learning curves\", \n",
    "           xlabel=\"Training examples\", ylabel=\"Score\")\n",
    " \n",
    "    return plt"
   ]
  },
  {
   "cell_type": "code",
   "execution_count": 26,
   "metadata": {
    "execution": {
     "iopub.execute_input": "2020-12-19T20:16:50.692965Z",
     "iopub.status.busy": "2020-12-19T20:16:50.692282Z",
     "iopub.status.idle": "2020-12-19T20:16:53.681977Z",
     "shell.execute_reply": "2020-12-19T20:16:53.682599Z"
    },
    "papermill": {
     "duration": 3.064714,
     "end_time": "2020-12-19T20:16:53.682770",
     "exception": false,
     "start_time": "2020-12-19T20:16:50.618056",
     "status": "completed"
    },
    "tags": []
   },
   "outputs": [
    {
     "data": {
      "image/png": "[encoded data removed]",
      "text/plain": [
       "<Figure size 432x288 with 1 Axes>"
      ]
     },
     "metadata": {
      "needs_background": "light"
     },
     "output_type": "display_data"
    }
   ],
   "source": [
    "plot_learning_curve(random_forest_tuned.best_estimator_, \n",
    "                    X, y, cv=cross_valid)\n",
    "plt.show()"
   ]
  },
  {
   "cell_type": "markdown",
   "metadata": {
    "papermill": {
     "duration": 0.071442,
     "end_time": "2020-12-19T20:16:53.826357",
     "exception": false,
     "start_time": "2020-12-19T20:16:53.754915",
     "status": "completed"
    },
    "tags": []
   },
   "source": [
    "Now that the best parameters are found, the model can be tested on validation data."
   ]
  },
  {
   "cell_type": "code",
   "execution_count": 27,
   "metadata": {
    "execution": {
     "iopub.execute_input": "2020-12-19T20:16:53.974482Z",
     "iopub.status.busy": "2020-12-19T20:16:53.973816Z",
     "iopub.status.idle": "2020-12-19T20:16:54.019947Z",
     "shell.execute_reply": "2020-12-19T20:16:54.020878Z"
    },
    "papermill": {
     "duration": 0.123174,
     "end_time": "2020-12-19T20:16:54.021134",
     "exception": false,
     "start_time": "2020-12-19T20:16:53.897960",
     "status": "completed"
    },
    "tags": []
   },
   "outputs": [
    {
     "name": "stdout",
     "output_type": "stream",
     "text": [
      "Accuracy: 0.7713004484304933\n"
     ]
    }
   ],
   "source": [
    "# Prediction on validation data\n",
    "y_pred = random_forest_tuned.predict(X_val)\n",
    "\n",
    "# Accuracy of prediction\n",
    "accuracy_random_forest = accuracy_score(y_val, y_pred)\n",
    "print(\"Accuracy:\", accuracy_random_forest)"
   ]
  },
  {
   "cell_type": "markdown",
   "metadata": {
    "papermill": {
     "duration": 0.093899,
     "end_time": "2020-12-19T20:16:54.229386",
     "exception": false,
     "start_time": "2020-12-19T20:16:54.135487",
     "status": "completed"
    },
    "tags": []
   },
   "source": [
    "## Support vector machine (SVM)\n",
    "A support vector machine is a supervised machine learning model that uses classification algorithms for two-group classification problems."
   ]
  },
  {
   "cell_type": "code",
   "execution_count": 28,
   "metadata": {
    "execution": {
     "iopub.execute_input": "2020-12-19T20:16:54.387880Z",
     "iopub.status.busy": "2020-12-19T20:16:54.387128Z",
     "iopub.status.idle": "2020-12-19T20:16:54.391567Z",
     "shell.execute_reply": "2020-12-19T20:16:54.391068Z"
    },
    "papermill": {
     "duration": 0.086551,
     "end_time": "2020-12-19T20:16:54.391658",
     "exception": false,
     "start_time": "2020-12-19T20:16:54.305107",
     "status": "completed"
    },
    "tags": []
   },
   "outputs": [
    {
     "data": {
      "text/plain": [
       "{'C': 1.0,\n",
       " 'break_ties': False,\n",
       " 'cache_size': 200,\n",
       " 'class_weight': None,\n",
       " 'coef0': 0.0,\n",
       " 'decision_function_shape': 'ovr',\n",
       " 'degree': 3,\n",
       " 'gamma': 'scale',\n",
       " 'kernel': 'rbf',\n",
       " 'max_iter': -1,\n",
       " 'probability': True,\n",
       " 'random_state': 7,\n",
       " 'shrinking': True,\n",
       " 'tol': 0.001,\n",
       " 'verbose': False}"
      ]
     },
     "execution_count": 28,
     "metadata": {},
     "output_type": "execute_result"
    }
   ],
   "source": [
    "# Default params of an svm\n",
    "from sklearn.svm import SVC\n",
    "\n",
    "svc = SVC(probability=True, random_state=SEED)\n",
    "\n",
    "svc.get_params()"
   ]
  },
  {
   "cell_type": "code",
   "execution_count": 29,
   "metadata": {
    "execution": {
     "iopub.execute_input": "2020-12-19T20:16:54.546635Z",
     "iopub.status.busy": "2020-12-19T20:16:54.546037Z",
     "iopub.status.idle": "2020-12-19T20:17:07.385889Z",
     "shell.execute_reply": "2020-12-19T20:17:07.384984Z"
    },
    "papermill": {
     "duration": 12.918175,
     "end_time": "2020-12-19T20:17:07.386040",
     "exception": false,
     "start_time": "2020-12-19T20:16:54.467865",
     "status": "completed"
    },
    "tags": []
   },
   "outputs": [
    {
     "name": "stdout",
     "output_type": "stream",
     "text": [
      "# Tuning hyper-parameters for accuracy by randomized search\n",
      "Best parameters by random search:\n",
      " {'C': 114.17739728690962, 'class_weight': None, 'gamma': 0.019793508758675773, 'kernel': 'rbf'}\n"
     ]
    }
   ],
   "source": [
    "# Hyper-parameter tuning\n",
    "params = {\n",
    "    'C': scipy.stats.expon(scale=78),\n",
    "    'class_weight':['balanced', None],\n",
    "    'gamma': scipy.stats.expon(scale=.1),\n",
    "    'kernel':['rbf', 'linear']\n",
    "}\n",
    "\n",
    "svc_tuned = random_search(X_train, y_train, estimator=svc, params=params)"
   ]
  },
  {
   "cell_type": "code",
   "execution_count": 30,
   "metadata": {
    "execution": {
     "iopub.execute_input": "2020-12-19T20:17:07.614790Z",
     "iopub.status.busy": "2020-12-19T20:17:07.613905Z",
     "iopub.status.idle": "2020-12-19T20:17:07.622887Z",
     "shell.execute_reply": "2020-12-19T20:17:07.621972Z"
    },
    "papermill": {
     "duration": 0.125767,
     "end_time": "2020-12-19T20:17:07.623037",
     "exception": false,
     "start_time": "2020-12-19T20:17:07.497270",
     "status": "completed"
    },
    "tags": []
   },
   "outputs": [
    {
     "name": "stdout",
     "output_type": "stream",
     "text": [
      "Accuracy: 0.7713004484304933\n"
     ]
    }
   ],
   "source": [
    "# Prediction on vlaidation data\n",
    "y_pred = svc_tuned.predict(X_val)\n",
    "\n",
    "# Accuracy\n",
    "accuracy_svc = accuracy_score(y_val, y_pred)\n",
    "print(\"Accuracy:\", accuracy_svc)"
   ]
  },
  {
   "cell_type": "code",
   "execution_count": 31,
   "metadata": {
    "execution": {
     "iopub.execute_input": "2020-12-19T20:17:07.858632Z",
     "iopub.status.busy": "2020-12-19T20:17:07.857785Z",
     "iopub.status.idle": "2020-12-19T20:17:08.601205Z",
     "shell.execute_reply": "2020-12-19T20:17:08.600337Z"
    },
    "papermill": {
     "duration": 0.87582,
     "end_time": "2020-12-19T20:17:08.601336",
     "exception": false,
     "start_time": "2020-12-19T20:17:07.725516",
     "status": "completed"
    },
    "tags": []
   },
   "outputs": [
    {
     "data": {
      "image/png": "[encoded data removed]",
      "text/plain": [
       "<Figure size 432x288 with 1 Axes>"
      ]
     },
     "metadata": {
      "needs_background": "light"
     },
     "output_type": "display_data"
    }
   ],
   "source": [
    "plot_learning_curve(svc_tuned.best_estimator_, X, y, cv=cross_valid)\n",
    "plt.show()"
   ]
  },
  {
   "cell_type": "markdown",
   "metadata": {
    "papermill": {
     "duration": 0.10401,
     "end_time": "2020-12-19T20:17:08.816650",
     "exception": false,
     "start_time": "2020-12-19T20:17:08.712640",
     "status": "completed"
    },
    "tags": []
   },
   "source": [
    "## XGBoost\n",
    "XGBoost is an open-source software library that provides a gradient boosting framework."
   ]
  },
  {
   "cell_type": "code",
   "execution_count": 32,
   "metadata": {
    "execution": {
     "iopub.execute_input": "2020-12-19T20:17:08.982509Z",
     "iopub.status.busy": "2020-12-19T20:17:08.981912Z",
     "iopub.status.idle": "2020-12-19T20:17:09.807250Z",
     "shell.execute_reply": "2020-12-19T20:17:09.806519Z"
    },
    "papermill": {
     "duration": 0.911373,
     "end_time": "2020-12-19T20:17:09.807391",
     "exception": false,
     "start_time": "2020-12-19T20:17:08.896018",
     "status": "completed"
    },
    "tags": []
   },
   "outputs": [
    {
     "data": {
      "text/plain": [
       "{'objective': 'binary:logistic',\n",
       " 'base_score': None,\n",
       " 'booster': None,\n",
       " 'colsample_bylevel': None,\n",
       " 'colsample_bynode': None,\n",
       " 'colsample_bytree': None,\n",
       " 'gamma': None,\n",
       " 'gpu_id': None,\n",
       " 'importance_type': 'gain',\n",
       " 'interaction_constraints': None,\n",
       " 'learning_rate': None,\n",
       " 'max_delta_step': None,\n",
       " 'max_depth': None,\n",
       " 'min_child_weight': None,\n",
       " 'missing': nan,\n",
       " 'monotone_constraints': None,\n",
       " 'n_estimators': 100,\n",
       " 'n_jobs': None,\n",
       " 'num_parallel_tree': None,\n",
       " 'random_state': 7,\n",
       " 'reg_alpha': None,\n",
       " 'reg_lambda': None,\n",
       " 'scale_pos_weight': None,\n",
       " 'subsample': None,\n",
       " 'tree_method': None,\n",
       " 'validate_parameters': None,\n",
       " 'verbosity': 0}"
      ]
     },
     "execution_count": 32,
     "metadata": {},
     "output_type": "execute_result"
    }
   ],
   "source": [
    "# Default params of an svm\n",
    "from xgboost import XGBClassifier\n",
    "\n",
    "xgb = XGBClassifier(random_state=SEED, verbosity=0)\n",
    "\n",
    "xgb.get_params()"
   ]
  },
  {
   "cell_type": "code",
   "execution_count": 33,
   "metadata": {
    "execution": {
     "iopub.execute_input": "2020-12-19T20:17:09.999307Z",
     "iopub.status.busy": "2020-12-19T20:17:09.998182Z",
     "iopub.status.idle": "2020-12-19T20:17:25.271115Z",
     "shell.execute_reply": "2020-12-19T20:17:25.272308Z"
    },
    "papermill": {
     "duration": 15.372493,
     "end_time": "2020-12-19T20:17:25.272493",
     "exception": false,
     "start_time": "2020-12-19T20:17:09.900000",
     "status": "completed"
    },
    "tags": []
   },
   "outputs": [
    {
     "name": "stdout",
     "output_type": "stream",
     "text": [
      "# Tuning hyper-parameters for accuracy by randomized search\n",
      "Best parameters by random search:\n",
      " {'subsample': 0.9500000000000003, 'reg_alpha': 0.1, 'n_estimators': 1000, 'min_child_weight': 4, 'max_depth': 5, 'learning_rate': 0.21, 'gamma': 4.9, 'colsample_bytree': 0.65}\n"
     ]
    }
   ],
   "source": [
    "# Hyper-parameter tuning\n",
    "params = {\n",
    "    'colsample_bytree': list(np.arange(0.6, 1.0, step=0.05)),\n",
    "    'gamma': list(np.arange(0.1, 15, step=0.2)),\n",
    "    'learning_rate': [0.01, 0.05, 0.1, 0.15, 0.21],\n",
    "    'max_depth': list(range(2, 12)),\n",
    "    'min_child_weight': list(range(1, 12)),\n",
    "    'n_estimators': [10, 100, 500, 1000],\n",
    "    'reg_alpha': [10**i for i in range(-5, 1)],\n",
    "    'subsample': list(np.arange(0.6, 1.0, step=0.05))\n",
    "}\n",
    "\n",
    "xgb_tuned = random_search(X_train, y_train, estimator=xgb, params=params)"
   ]
  },
  {
   "cell_type": "code",
   "execution_count": 34,
   "metadata": {
    "execution": {
     "iopub.execute_input": "2020-12-19T20:17:25.536851Z",
     "iopub.status.busy": "2020-12-19T20:17:25.535964Z",
     "iopub.status.idle": "2020-12-19T20:17:25.545975Z",
     "shell.execute_reply": "2020-12-19T20:17:25.546683Z"
    },
    "papermill": {
     "duration": 0.137197,
     "end_time": "2020-12-19T20:17:25.546875",
     "exception": false,
     "start_time": "2020-12-19T20:17:25.409678",
     "status": "completed"
    },
    "tags": []
   },
   "outputs": [
    {
     "name": "stdout",
     "output_type": "stream",
     "text": [
      "Accuracy: 0.7757847533632287\n"
     ]
    }
   ],
   "source": [
    "# Prediction on vlaidation data\n",
    "y_pred = xgb_tuned.predict(X_val)\n",
    "\n",
    "# Accuracy\n",
    "accuracy_xgboost = accuracy_score(y_val, y_pred)\n",
    "print(\"Accuracy:\", accuracy_xgboost)"
   ]
  },
  {
   "cell_type": "code",
   "execution_count": 35,
   "metadata": {
    "execution": {
     "iopub.execute_input": "2020-12-19T20:17:25.746430Z",
     "iopub.status.busy": "2020-12-19T20:17:25.745833Z",
     "iopub.status.idle": "2020-12-19T20:17:27.626986Z",
     "shell.execute_reply": "2020-12-19T20:17:27.626180Z"
    },
    "papermill": {
     "duration": 1.98278,
     "end_time": "2020-12-19T20:17:27.627125",
     "exception": false,
     "start_time": "2020-12-19T20:17:25.644345",
     "status": "completed"
    },
    "tags": []
   },
   "outputs": [
    {
     "data": {
      "image/png": "[encoded data removed]",
      "text/plain": [
       "<Figure size 432x288 with 1 Axes>"
      ]
     },
     "metadata": {
      "needs_background": "light"
     },
     "output_type": "display_data"
    }
   ],
   "source": [
    "plot_learning_curve(xgb_tuned.best_estimator_, X, y, cv=cross_valid)\n",
    "plt.show()"
   ]
  },
  {
   "cell_type": "markdown",
   "metadata": {
    "papermill": {
     "duration": 0.116324,
     "end_time": "2020-12-19T20:17:27.859683",
     "exception": false,
     "start_time": "2020-12-19T20:17:27.743359",
     "status": "completed"
    },
    "tags": []
   },
   "source": [
    "## Decision Tree\n",
    "A decision tree is a flowchart-like structure in which each internal node represents a \"test\" on an attribute (e.g. whether a coin flip comes up heads or tails), each branch represents the outcome of the test, and each leaf node represents a class label (decision taken after computing all attributes) [[link](https://en.wikipedia.org/wiki/Decision_tree#:~:text=A%20decision%20tree%20is%20a%20flowchart%2Dlike%20structure%20in%20which,taken%20after%20computing%20all%20attributes)]."
   ]
  },
  {
   "cell_type": "code",
   "execution_count": 36,
   "metadata": {
    "execution": {
     "iopub.execute_input": "2020-12-19T20:17:28.101288Z",
     "iopub.status.busy": "2020-12-19T20:17:28.099818Z",
     "iopub.status.idle": "2020-12-19T20:17:28.105592Z",
     "shell.execute_reply": "2020-12-19T20:17:28.104944Z"
    },
    "papermill": {
     "duration": 0.129607,
     "end_time": "2020-12-19T20:17:28.105699",
     "exception": false,
     "start_time": "2020-12-19T20:17:27.976092",
     "status": "completed"
    },
    "tags": []
   },
   "outputs": [
    {
     "data": {
      "text/plain": [
       "{'ccp_alpha': 0.0,\n",
       " 'class_weight': None,\n",
       " 'criterion': 'gini',\n",
       " 'max_depth': None,\n",
       " 'max_features': None,\n",
       " 'max_leaf_nodes': None,\n",
       " 'min_impurity_decrease': 0.0,\n",
       " 'min_impurity_split': None,\n",
       " 'min_samples_leaf': 1,\n",
       " 'min_samples_split': 2,\n",
       " 'min_weight_fraction_leaf': 0.0,\n",
       " 'presort': 'deprecated',\n",
       " 'random_state': 7,\n",
       " 'splitter': 'best'}"
      ]
     },
     "execution_count": 36,
     "metadata": {},
     "output_type": "execute_result"
    }
   ],
   "source": [
    "# Default params of an svm\n",
    "from sklearn.tree import DecisionTreeClassifier\n",
    "\n",
    "decision_tree = DecisionTreeClassifier(random_state=SEED)\n",
    "\n",
    "decision_tree.get_params()"
   ]
  },
  {
   "cell_type": "code",
   "execution_count": 37,
   "metadata": {
    "execution": {
     "iopub.execute_input": "2020-12-19T20:17:28.257692Z",
     "iopub.status.busy": "2020-12-19T20:17:28.257242Z",
     "iopub.status.idle": "2020-12-19T20:17:29.304145Z",
     "shell.execute_reply": "2020-12-19T20:17:29.305316Z"
    },
    "papermill": {
     "duration": 1.119615,
     "end_time": "2020-12-19T20:17:29.305531",
     "exception": false,
     "start_time": "2020-12-19T20:17:28.185916",
     "status": "completed"
    },
    "tags": []
   },
   "outputs": [
    {
     "name": "stdout",
     "output_type": "stream",
     "text": [
      "# Tuning hyper-parameters for accuracy by randomized search\n",
      "Best parameters by random search:\n",
      " {'min_samples_split': 0.1, 'min_samples_leaf': 1, 'max_features': 5, 'max_depth': 25, 'criterion': 'gini'}\n"
     ]
    }
   ],
   "source": [
    "# Hyper-parameter tuning\n",
    "params = {\n",
    "    'criterion': [\"gini\", \"entropy\"],\n",
    "    'max_depth': list(range(1, 32)),\n",
    "    'max_features': list(range(1, X_train.shape[1]+1)),\n",
    "    'min_samples_leaf': list(range(1, 9)),\n",
    "    'min_samples_split': list(np.arange(0.1, 1.1, step=0.1))\n",
    "}\n",
    "\n",
    "decision_tree_tuned = random_search(\n",
    "    X_train, y_train, estimator=decision_tree, params=params)"
   ]
  },
  {
   "cell_type": "code",
   "execution_count": 38,
   "metadata": {
    "execution": {
     "iopub.execute_input": "2020-12-19T20:17:29.483631Z",
     "iopub.status.busy": "2020-12-19T20:17:29.483151Z",
     "iopub.status.idle": "2020-12-19T20:17:29.488290Z",
     "shell.execute_reply": "2020-12-19T20:17:29.487573Z"
    },
    "papermill": {
     "duration": 0.097273,
     "end_time": "2020-12-19T20:17:29.488408",
     "exception": false,
     "start_time": "2020-12-19T20:17:29.391135",
     "status": "completed"
    },
    "tags": []
   },
   "outputs": [
    {
     "name": "stdout",
     "output_type": "stream",
     "text": [
      "Accuracy: 0.7623318385650224\n"
     ]
    }
   ],
   "source": [
    "# Prediction on vlaidation data\n",
    "y_pred = decision_tree_tuned.predict(X_val)\n",
    "\n",
    "# Accuracy\n",
    "accuracy_decision_tree = accuracy_score(y_val, y_pred)\n",
    "print(\"Accuracy:\", accuracy_decision_tree)"
   ]
  },
  {
   "cell_type": "code",
   "execution_count": 39,
   "metadata": {
    "execution": {
     "iopub.execute_input": "2020-12-19T20:17:29.620780Z",
     "iopub.status.busy": "2020-12-19T20:17:29.620302Z",
     "iopub.status.idle": "2020-12-19T20:17:29.949425Z",
     "shell.execute_reply": "2020-12-19T20:17:29.949907Z"
    },
    "papermill": {
     "duration": 0.392736,
     "end_time": "2020-12-19T20:17:29.950034",
     "exception": false,
     "start_time": "2020-12-19T20:17:29.557298",
     "status": "completed"
    },
    "tags": []
   },
   "outputs": [
    {
     "data": {
      "image/png": "[encoded data removed]",
      "text/plain": [
       "<Figure size 432x288 with 1 Axes>"
      ]
     },
     "metadata": {
      "needs_background": "light"
     },
     "output_type": "display_data"
    }
   ],
   "source": [
    "plot_learning_curve(decision_tree_tuned.best_estimator_, X, y, cv=cross_valid)\n",
    "plt.show()"
   ]
  },
  {
   "cell_type": "markdown",
   "metadata": {
    "papermill": {
     "duration": 0.085125,
     "end_time": "2020-12-19T20:17:30.120551",
     "exception": false,
     "start_time": "2020-12-19T20:17:30.035426",
     "status": "completed"
    },
    "tags": []
   },
   "source": [
    "## K-Nearest Neighbors\n",
    "The k-nearest neighbors algorithm (k-NN) is a non-parametric method used that assumes similar things exist in close proximity."
   ]
  },
  {
   "cell_type": "code",
   "execution_count": 40,
   "metadata": {
    "execution": {
     "iopub.execute_input": "2020-12-19T20:17:30.358879Z",
     "iopub.status.busy": "2020-12-19T20:17:30.357773Z",
     "iopub.status.idle": "2020-12-19T20:17:30.366816Z",
     "shell.execute_reply": "2020-12-19T20:17:30.366190Z"
    },
    "papermill": {
     "duration": 0.135973,
     "end_time": "2020-12-19T20:17:30.366932",
     "exception": false,
     "start_time": "2020-12-19T20:17:30.230959",
     "status": "completed"
    },
    "tags": []
   },
   "outputs": [
    {
     "data": {
      "text/plain": [
       "{'algorithm': 'auto',\n",
       " 'leaf_size': 30,\n",
       " 'metric': 'minkowski',\n",
       " 'metric_params': None,\n",
       " 'n_jobs': None,\n",
       " 'n_neighbors': 5,\n",
       " 'p': 2,\n",
       " 'weights': 'uniform'}"
      ]
     },
     "execution_count": 40,
     "metadata": {},
     "output_type": "execute_result"
    }
   ],
   "source": [
    "# Default params\n",
    "from sklearn.neighbors import KNeighborsClassifier\n",
    "\n",
    "knn = KNeighborsClassifier()\n",
    "\n",
    "knn.get_params()"
   ]
  },
  {
   "cell_type": "code",
   "execution_count": 41,
   "metadata": {
    "execution": {
     "iopub.execute_input": "2020-12-19T20:17:30.542193Z",
     "iopub.status.busy": "2020-12-19T20:17:30.541532Z",
     "iopub.status.idle": "2020-12-19T20:17:32.618473Z",
     "shell.execute_reply": "2020-12-19T20:17:32.618967Z"
    },
    "papermill": {
     "duration": 2.168883,
     "end_time": "2020-12-19T20:17:32.619074",
     "exception": false,
     "start_time": "2020-12-19T20:17:30.450191",
     "status": "completed"
    },
    "tags": []
   },
   "outputs": [
    {
     "name": "stdout",
     "output_type": "stream",
     "text": [
      "# Tuning hyper-parameters for accuracy by randomized search\n",
      "Best parameters by random search:\n",
      " {'p': 1, 'n_neighbors': 18, 'leaf_size': 25}\n"
     ]
    }
   ],
   "source": [
    "# Hyper-parameter tuning\n",
    "# Note: running this cell takes a few minutes\n",
    "params = {\n",
    "    'leaf_size': list(range(20, 60)),\n",
    "    'n_neighbors': list(range(3, 30)),\n",
    "    'p': [1, 2]\n",
    "}\n",
    "\n",
    "knn_tuned = random_search(X_train, y_train, estimator=knn, params=params)"
   ]
  },
  {
   "cell_type": "code",
   "execution_count": 42,
   "metadata": {
    "execution": {
     "iopub.execute_input": "2020-12-19T20:17:32.740317Z",
     "iopub.status.busy": "2020-12-19T20:17:32.739887Z",
     "iopub.status.idle": "2020-12-19T20:17:32.767233Z",
     "shell.execute_reply": "2020-12-19T20:17:32.767896Z"
    },
    "papermill": {
     "duration": 0.090607,
     "end_time": "2020-12-19T20:17:32.768047",
     "exception": false,
     "start_time": "2020-12-19T20:17:32.677440",
     "status": "completed"
    },
    "tags": []
   },
   "outputs": [
    {
     "name": "stdout",
     "output_type": "stream",
     "text": [
      "Accuracy: 0.7174887892376681\n"
     ]
    }
   ],
   "source": [
    "# Prediction on vlaidation data\n",
    "y_pred = knn_tuned.predict(X_val)\n",
    "\n",
    "# Accuracy\n",
    "accuracy_knn = accuracy_score(y_val, y_pred)\n",
    "print(\"Accuracy:\", accuracy_knn)"
   ]
  },
  {
   "cell_type": "code",
   "execution_count": 43,
   "metadata": {
    "execution": {
     "iopub.execute_input": "2020-12-19T20:17:32.944069Z",
     "iopub.status.busy": "2020-12-19T20:17:32.943366Z",
     "iopub.status.idle": "2020-12-19T20:17:33.435049Z",
     "shell.execute_reply": "2020-12-19T20:17:33.435548Z"
    },
    "papermill": {
     "duration": 0.583214,
     "end_time": "2020-12-19T20:17:33.435696",
     "exception": false,
     "start_time": "2020-12-19T20:17:32.852482",
     "status": "completed"
    },
    "tags": []
   },
   "outputs": [
    {
     "data": {
      "image/png": "[encoded data removed]",
      "text/plain": [
       "<Figure size 432x288 with 1 Axes>"
      ]
     },
     "metadata": {
      "needs_background": "light"
     },
     "output_type": "display_data"
    }
   ],
   "source": [
    "plot_learning_curve(knn_tuned.best_estimator_, X, y, cv=cross_valid)\n",
    "plt.show()"
   ]
  },
  {
   "cell_type": "markdown",
   "metadata": {
    "papermill": {
     "duration": 0.083978,
     "end_time": "2020-12-19T20:17:33.604057",
     "exception": false,
     "start_time": "2020-12-19T20:17:33.520079",
     "status": "completed"
    },
    "tags": []
   },
   "source": [
    "## Logistic regression\n",
    "The logistic model is used to model the probability of a certain class or event existing such as pass/fail, win/lose, alive/dead or healthy/sick. This can be extended to model several classes of events such as determining whether an image contains a cat, dog, lion, etc [[link](https://en.wikipedia.org/wiki/Logistic_regression)].\n",
    "\n",
    "The material is borrowed from [here](https://machinelearningmastery.com/hyperparameter-optimization-with-random-search-and-grid-search/)."
   ]
  },
  {
   "cell_type": "code",
   "execution_count": 44,
   "metadata": {
    "execution": {
     "iopub.execute_input": "2020-12-19T20:17:33.780213Z",
     "iopub.status.busy": "2020-12-19T20:17:33.776490Z",
     "iopub.status.idle": "2020-12-19T20:17:33.785528Z",
     "shell.execute_reply": "2020-12-19T20:17:33.786133Z"
    },
    "papermill": {
     "duration": 0.096483,
     "end_time": "2020-12-19T20:17:33.786272",
     "exception": false,
     "start_time": "2020-12-19T20:17:33.689789",
     "status": "completed"
    },
    "tags": []
   },
   "outputs": [
    {
     "data": {
      "text/plain": [
       "{'C': 1.0,\n",
       " 'class_weight': None,\n",
       " 'dual': False,\n",
       " 'fit_intercept': True,\n",
       " 'intercept_scaling': 1,\n",
       " 'l1_ratio': None,\n",
       " 'max_iter': 100,\n",
       " 'multi_class': 'auto',\n",
       " 'n_jobs': None,\n",
       " 'penalty': 'l2',\n",
       " 'random_state': 7,\n",
       " 'solver': 'lbfgs',\n",
       " 'tol': 0.0001,\n",
       " 'verbose': 0,\n",
       " 'warm_start': False}"
      ]
     },
     "execution_count": 44,
     "metadata": {},
     "output_type": "execute_result"
    }
   ],
   "source": [
    "# Default params\n",
    "from sklearn.linear_model import LogisticRegression\n",
    "\n",
    "logistic_regression = LogisticRegression(random_state=SEED)\n",
    "\n",
    "logistic_regression.get_params()"
   ]
  },
  {
   "cell_type": "code",
   "execution_count": 45,
   "metadata": {
    "execution": {
     "iopub.execute_input": "2020-12-19T20:17:33.959090Z",
     "iopub.status.busy": "2020-12-19T20:17:33.958371Z",
     "iopub.status.idle": "2020-12-19T20:17:35.001557Z",
     "shell.execute_reply": "2020-12-19T20:17:35.002372Z"
    },
    "papermill": {
     "duration": 1.131786,
     "end_time": "2020-12-19T20:17:35.002609",
     "exception": false,
     "start_time": "2020-12-19T20:17:33.870823",
     "status": "completed"
    },
    "tags": []
   },
   "outputs": [
    {
     "name": "stdout",
     "output_type": "stream",
     "text": [
      "# Tuning hyper-parameters for accuracy by randomized search\n",
      "Best parameters by random search:\n",
      " {'C': 0.4011377228340273, 'penalty': 'l1', 'solver': 'liblinear'}\n"
     ]
    }
   ],
   "source": [
    "# Hyper-parameter tuning\n",
    "params = {\n",
    "    'C': scipy.stats.loguniform(1e-4, 100),\n",
    "    'penalty': ['l1', 'l2', 'elasticnet'],\n",
    "    'solver': ['newton-cg', 'lbfgs', 'liblinear']\n",
    "}\n",
    "\n",
    "logistic_regression_tuned = random_search(\n",
    "    X_train, y_train, estimator=logistic_regression, params=params)"
   ]
  },
  {
   "cell_type": "code",
   "execution_count": 46,
   "metadata": {
    "execution": {
     "iopub.execute_input": "2020-12-19T20:17:35.268741Z",
     "iopub.status.busy": "2020-12-19T20:17:35.267813Z",
     "iopub.status.idle": "2020-12-19T20:17:35.273382Z",
     "shell.execute_reply": "2020-12-19T20:17:35.272672Z"
    },
    "papermill": {
     "duration": 0.143403,
     "end_time": "2020-12-19T20:17:35.273521",
     "exception": false,
     "start_time": "2020-12-19T20:17:35.130118",
     "status": "completed"
    },
    "tags": []
   },
   "outputs": [
    {
     "name": "stdout",
     "output_type": "stream",
     "text": [
      "Accuracy: 0.757847533632287\n"
     ]
    }
   ],
   "source": [
    "# Prediction on vlaidation data\n",
    "y_pred = logistic_regression_tuned.predict(X_val)\n",
    "\n",
    "# Accuracy\n",
    "accuracy_logistic_regression = accuracy_score(y_val, y_pred)\n",
    "print(\"Accuracy:\", accuracy_logistic_regression)"
   ]
  },
  {
   "cell_type": "code",
   "execution_count": 47,
   "metadata": {
    "execution": {
     "iopub.execute_input": "2020-12-19T20:17:35.541323Z",
     "iopub.status.busy": "2020-12-19T20:17:35.540168Z",
     "iopub.status.idle": "2020-12-19T20:17:35.828184Z",
     "shell.execute_reply": "2020-12-19T20:17:35.827110Z"
    },
    "papermill": {
     "duration": 0.425717,
     "end_time": "2020-12-19T20:17:35.828316",
     "exception": false,
     "start_time": "2020-12-19T20:17:35.402599",
     "status": "completed"
    },
    "tags": []
   },
   "outputs": [
    {
     "data": {
      "image/png": "[encoded data removed]",
      "text/plain": [
       "<Figure size 432x288 with 1 Axes>"
      ]
     },
     "metadata": {
      "needs_background": "light"
     },
     "output_type": "display_data"
    }
   ],
   "source": [
    "plot_learning_curve(logistic_regression_tuned.best_estimator_, \n",
    "                    X, y, cv=cross_valid)\n",
    "plt.show()"
   ]
  },
  {
   "cell_type": "markdown",
   "metadata": {
    "papermill": {
     "duration": 0.131531,
     "end_time": "2020-12-19T20:17:36.089835",
     "exception": false,
     "start_time": "2020-12-19T20:17:35.958304",
     "status": "completed"
    },
    "tags": []
   },
   "source": [
    "## Naive Bayes\n",
    "Naive Bayes classifiers are a family of simple \"probabilistic classifiers\" based on applying Bayes' theorem with strong independence assumptions between the features [[link](https://en.wikipedia.org/wiki/Naive_Bayes_classifier)]."
   ]
  },
  {
   "cell_type": "code",
   "execution_count": 48,
   "metadata": {
    "execution": {
     "iopub.execute_input": "2020-12-19T20:17:36.354970Z",
     "iopub.status.busy": "2020-12-19T20:17:36.353834Z",
     "iopub.status.idle": "2020-12-19T20:17:36.363291Z",
     "shell.execute_reply": "2020-12-19T20:17:36.362584Z"
    },
    "papermill": {
     "duration": 0.144112,
     "end_time": "2020-12-19T20:17:36.363446",
     "exception": false,
     "start_time": "2020-12-19T20:17:36.219334",
     "status": "completed"
    },
    "tags": []
   },
   "outputs": [
    {
     "data": {
      "text/plain": [
       "{'priors': None, 'var_smoothing': 1e-09}"
      ]
     },
     "execution_count": 48,
     "metadata": {},
     "output_type": "execute_result"
    }
   ],
   "source": [
    "# Default params\n",
    "from sklearn.naive_bayes import GaussianNB\n",
    "\n",
    "naive_bayes = GaussianNB()\n",
    "\n",
    "naive_bayes.get_params()"
   ]
  },
  {
   "cell_type": "code",
   "execution_count": 49,
   "metadata": {
    "execution": {
     "iopub.execute_input": "2020-12-19T20:17:36.630256Z",
     "iopub.status.busy": "2020-12-19T20:17:36.629387Z",
     "iopub.status.idle": "2020-12-19T20:17:36.833819Z",
     "shell.execute_reply": "2020-12-19T20:17:36.832620Z"
    },
    "papermill": {
     "duration": 0.341325,
     "end_time": "2020-12-19T20:17:36.833966",
     "exception": false,
     "start_time": "2020-12-19T20:17:36.492641",
     "status": "completed"
    },
    "tags": []
   },
   "outputs": [
    {
     "name": "stdout",
     "output_type": "stream",
     "text": [
      "# Tuning hyper-parameters for accuracy by randomized search\n",
      "Best parameters by random search:\n",
      " {'var_smoothing': 0.049787068367863944}\n"
     ]
    }
   ],
   "source": [
    "# Hyper-parameter tuning\n",
    "params = {\n",
    "    'var_smoothing': [np.exp(-i) for i in range(1, 15)]\n",
    "}\n",
    "\n",
    "naive_bayes_tuned = random_search(\n",
    "    X_train, y_train, estimator=naive_bayes, params=params, n_iter=15-1)"
   ]
  },
  {
   "cell_type": "code",
   "execution_count": 50,
   "metadata": {
    "execution": {
     "iopub.execute_input": "2020-12-19T20:17:37.019086Z",
     "iopub.status.busy": "2020-12-19T20:17:37.018349Z",
     "iopub.status.idle": "2020-12-19T20:17:37.028586Z",
     "shell.execute_reply": "2020-12-19T20:17:37.029289Z"
    },
    "papermill": {
     "duration": 0.106357,
     "end_time": "2020-12-19T20:17:37.029475",
     "exception": false,
     "start_time": "2020-12-19T20:17:36.923118",
     "status": "completed"
    },
    "tags": []
   },
   "outputs": [
    {
     "name": "stdout",
     "output_type": "stream",
     "text": [
      "Accuracy: 0.7533632286995515\n"
     ]
    }
   ],
   "source": [
    "# Prediction on vlaidation data\n",
    "y_pred = naive_bayes_tuned.predict(X_val)\n",
    "\n",
    "# Accuracy\n",
    "accuracy_naive_bayes = accuracy_score(y_val, y_pred)\n",
    "print(\"Accuracy:\", accuracy_naive_bayes)"
   ]
  },
  {
   "cell_type": "markdown",
   "metadata": {
    "papermill": {
     "duration": 0.132663,
     "end_time": "2020-12-19T20:17:37.293384",
     "exception": false,
     "start_time": "2020-12-19T20:17:37.160721",
     "status": "completed"
    },
    "tags": []
   },
   "source": []
  },
  {
   "cell_type": "code",
   "execution_count": 51,
   "metadata": {
    "execution": {
     "iopub.execute_input": "2020-12-19T20:17:37.549376Z",
     "iopub.status.busy": "2020-12-19T20:17:37.548277Z",
     "iopub.status.idle": "2020-12-19T20:17:37.833656Z",
     "shell.execute_reply": "2020-12-19T20:17:37.832869Z"
    },
    "papermill": {
     "duration": 0.421538,
     "end_time": "2020-12-19T20:17:37.833819",
     "exception": false,
     "start_time": "2020-12-19T20:17:37.412281",
     "status": "completed"
    },
    "tags": []
   },
   "outputs": [
    {
     "data": {
      "image/png": "[encoded data removed]",
      "text/plain": [
       "<Figure size 432x288 with 1 Axes>"
      ]
     },
     "metadata": {
      "needs_background": "light"
     },
     "output_type": "display_data"
    }
   ],
   "source": [
    "plot_learning_curve(naive_bayes_tuned.best_estimator_, \n",
    "                    X, y, cv=cross_valid)\n",
    "plt.show()"
   ]
  },
  {
   "cell_type": "markdown",
   "metadata": {
    "papermill": {
     "duration": 0.132886,
     "end_time": "2020-12-19T20:17:38.099152",
     "exception": false,
     "start_time": "2020-12-19T20:17:37.966266",
     "status": "completed"
    },
    "tags": []
   },
   "source": [
    "## Conclusion\n",
    "The following is the result of running different models on the Titanic dataset."
   ]
  },
  {
   "cell_type": "code",
   "execution_count": 52,
   "metadata": {
    "execution": {
     "iopub.execute_input": "2020-12-19T20:17:38.392894Z",
     "iopub.status.busy": "2020-12-19T20:17:38.380588Z",
     "iopub.status.idle": "2020-12-19T20:17:38.527139Z",
     "shell.execute_reply": "2020-12-19T20:17:38.526378Z"
    },
    "papermill": {
     "duration": 0.295733,
     "end_time": "2020-12-19T20:17:38.527249",
     "exception": false,
     "start_time": "2020-12-19T20:17:38.231516",
     "status": "completed"
    },
    "tags": []
   },
   "outputs": [
    {
     "data": {
      "image/png": "[encoded data removed]",
      "text/plain": [
       "<Figure size 432x288 with 1 Axes>"
      ]
     },
     "metadata": {
      "needs_background": "light"
     },
     "output_type": "display_data"
    }
   ],
   "source": [
    "accuracy_df = pd.DataFrame({\n",
    "    'Model': ['Random forest', 'SVM', 'XGBoost', 'Decision Tree', 'KNN', \n",
    "              'Logistic regression', 'Naive Bayes'],\n",
    "    'Accuracy': [accuracy_random_forest, accuracy_svc, accuracy_xgboost,\n",
    "                 accuracy_decision_tree, accuracy_knn,\n",
    "                 accuracy_logistic_regression, accuracy_naive_bayes]\n",
    "})\n",
    "\n",
    "# Sort\n",
    "accuracy_df_sorted = accuracy_df.sort_values(by='Accuracy', ascending=False)\n",
    "\n",
    "# Plot\n",
    "g = sns.barplot(data=accuracy_df_sorted, y='Model', x='Accuracy')\n",
    "g.set(ylabel='', xlim=(0.7, 0.8))\n",
    "plt.show()"
   ]
  }
 ],
 "metadata": {
  "kernelspec": {
   "display_name": "Python 3",
   "language": "python",
   "name": "python3"
  },
  "language_info": {
   "codemirror_mode": {
    "name": "ipython",
    "version": 3
   },
   "file_extension": ".py",
   "mimetype": "text/x-python",
   "name": "python",
   "nbconvert_exporter": "python",
   "pygments_lexer": "ipython3",
   "version": "3.7.6"
  },
  "papermill": {
   "duration": 2272.327997,
   "end_time": "2020-12-19T20:50:28.101579",
   "environment_variables": {},
   "exception": null,
   "input_path": "__notebook__.ipynb",
   "output_path": "__notebook__.ipynb",
   "parameters": {},
   "start_time": "2020-12-19T20:12:35.773582",
   "version": "2.1.0"
  }
 },
 "nbformat": 4,
 "nbformat_minor": 4
}
